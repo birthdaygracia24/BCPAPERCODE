{
  "nbformat": 4,
  "nbformat_minor": 0,
  "metadata": {
    "colab": {
      "name": "CodeWithMod.ipynb",
      "provenance": [],
      "collapsed_sections": []
    },
    "kernelspec": {
      "name": "python3",
      "display_name": "Python 3"
    },
    "language_info": {
      "name": "python"
    }
  },
  "cells": [
    {
      "cell_type": "code",
      "metadata": {
        "id": "gqdwUwC9xZuD"
      },
      "source": [
        "# ! pip install cardea\n",
        "# ! pip install 'urllib3!=1.25.0,!=1.25.1,<1.26,>=1.21.1'"
      ],
      "execution_count": 1,
      "outputs": []
    },
    {
      "cell_type": "code",
      "metadata": {
        "id": "vPez2658xczY"
      },
      "source": [
        "# imports \n",
        "\n",
        "import pandas as pd\n",
        "import numpy as np\n",
        "\n",
        "#Cardea\n",
        "from cardea import Cardea\n",
        "\n",
        "#Model\n",
        "from sklearn.ensemble import RandomForestClassifier\n",
        "from sklearn.linear_model import LogisticRegression\n",
        "from sklearn.naive_bayes import GaussianNB\n",
        "from sklearn.ensemble import GradientBoostingClassifier\n",
        "from sklearn.neighbors import KNeighborsClassifier\n",
        "from sklearn.naive_bayes import MultinomialNB\n",
        "from sklearn.linear_model import SGDClassifier\n",
        "from xgboost import XGBClassifier\n",
        "\n",
        "#Evaluation\n",
        "from sklearn.metrics import accuracy_score"
      ],
      "execution_count": 2,
      "outputs": []
    },
    {
      "cell_type": "code",
      "metadata": {
        "id": "M6mFmEsMxfl9"
      },
      "source": [
        "# optional\n",
        "import warnings\n",
        "warnings.filterwarnings(\"ignore\")"
      ],
      "execution_count": 3,
      "outputs": []
    },
    {
      "cell_type": "code",
      "metadata": {
        "id": "hnOCZJLYxg4C"
      },
      "source": [
        "cd = Cardea()"
      ],
      "execution_count": 4,
      "outputs": []
    },
    {
      "cell_type": "code",
      "metadata": {
        "id": "AXfYP8mGxiTx"
      },
      "source": [
        "# ! curl -O https://dai-cardea.s3.amazonaws.com/kaggle.zip && unzip kaggle.zip"
      ],
      "execution_count": 5,
      "outputs": []
    },
    {
      "cell_type": "code",
      "metadata": {
        "colab": {
          "base_uri": "https://localhost:8080/"
        },
        "id": "fTX-D4rFxiZZ",
        "outputId": "fb168512-4bbf-4a9a-846c-cbaf508a33c7"
      },
      "source": [
        "cd.load_entityset(data='kaggle')\n",
        "\n",
        "# to view the loaded entityset\n",
        "cd.es"
      ],
      "execution_count": 6,
      "outputs": [
        {
          "output_type": "execute_result",
          "data": {
            "text/plain": [
              "Entityset: fhir\n",
              "  Entities:\n",
              "    Reference [Rows: 6100, Columns: 1]\n",
              "    Address [Rows: 81, Columns: 2]\n",
              "    Identifier [Rows: 227151, Columns: 1]\n",
              "    Patient [Rows: 6100, Columns: 4]\n",
              "    Appointment_Participant [Rows: 6100, Columns: 2]\n",
              "    Observation [Rows: 110527, Columns: 3]\n",
              "    CodeableConcept [Rows: 4, Columns: 2]\n",
              "    Appointment [Rows: 110527, Columns: 5]\n",
              "    Coding [Rows: 3, Columns: 2]\n",
              "  Relationships:\n",
              "    Patient.address -> Address.object_id\n",
              "    Appointment_Participant.actor -> Reference.identifier\n",
              "    Observation.code -> CodeableConcept.object_id\n",
              "    Observation.subject -> Reference.identifier\n",
              "    CodeableConcept.coding -> Coding.object_id\n",
              "    Appointment.participant -> Appointment_Participant.object_id"
            ]
          },
          "metadata": {},
          "execution_count": 6
        }
      ]
    },
    {
      "cell_type": "code",
      "metadata": {
        "colab": {
          "base_uri": "https://localhost:8080/"
        },
        "id": "P5AaoH8Cxkgi",
        "outputId": "f99bf4ea-8676-4378-cc96-ec169fa3ea2f"
      },
      "source": [
        "cd.list_problems()"
      ],
      "execution_count": 7,
      "outputs": [
        {
          "output_type": "execute_result",
          "data": {
            "text/plain": [
              "{'DiagnosisPrediction',\n",
              " 'LengthOfStay',\n",
              " 'MissedAppointment',\n",
              " 'MortalityPrediction',\n",
              " 'ProlongedLengthOfStay',\n",
              " 'Readmission'}"
            ]
          },
          "metadata": {},
          "execution_count": 7
        }
      ]
    },
    {
      "cell_type": "code",
      "metadata": {
        "id": "G4zjq-rnxmTL"
      },
      "source": [
        "# select problem\n",
        "label_times = cd.select_problem('MissedAppointment')"
      ],
      "execution_count": 8,
      "outputs": []
    },
    {
      "cell_type": "code",
      "metadata": {
        "colab": {
          "base_uri": "https://localhost:8080/",
          "height": 285
        },
        "id": "ztHigIeZxn1W",
        "outputId": "4b5196d9-9e37-4aaf-c03e-45c06dd266c4"
      },
      "source": [
        "# feature engineering\n",
        "feature_matrix = cd.generate_features(label_times[:1000]) # takes a while for the full dataset\n",
        "feature_matrix.head(5)"
      ],
      "execution_count": 9,
      "outputs": [
        {
          "output_type": "stream",
          "name": "stdout",
          "text": [
            "Built 13 features\n",
            "Elapsed: 00:32 | Progress: 100%|██████████\n"
          ]
        },
        {
          "output_type": "execute_result",
          "data": {
            "text/html": [
              "<div>\n",
              "<style scoped>\n",
              "    .dataframe tbody tr th:only-of-type {\n",
              "        vertical-align: middle;\n",
              "    }\n",
              "\n",
              "    .dataframe tbody tr th {\n",
              "        vertical-align: top;\n",
              "    }\n",
              "\n",
              "    .dataframe thead th {\n",
              "        text-align: right;\n",
              "    }\n",
              "</style>\n",
              "<table border=\"1\" class=\"dataframe\">\n",
              "  <thead>\n",
              "    <tr style=\"text-align: right;\">\n",
              "      <th></th>\n",
              "      <th>participant = 2680425062</th>\n",
              "      <th>participant = 4275143764</th>\n",
              "      <th>participant = 2615334244</th>\n",
              "      <th>participant = 2410824900</th>\n",
              "      <th>participant = 2406221984</th>\n",
              "      <th>participant = 1868414665</th>\n",
              "      <th>participant = 1692482157</th>\n",
              "      <th>participant = 1125465544</th>\n",
              "      <th>participant = 846537388</th>\n",
              "      <th>participant = 4121228070</th>\n",
              "      <th>participant is unknown</th>\n",
              "      <th>DAY(created) = 29</th>\n",
              "      <th>DAY(created) = 28</th>\n",
              "      <th>DAY(created) = 27</th>\n",
              "      <th>DAY(created) = 18</th>\n",
              "      <th>DAY(created) = 15</th>\n",
              "      <th>DAY(created) = 26</th>\n",
              "      <th>DAY(created) = 25</th>\n",
              "      <th>DAY(created) = 5</th>\n",
              "      <th>DAY(created) = 1</th>\n",
              "      <th>DAY(created) = 8</th>\n",
              "      <th>DAY(created) is unknown</th>\n",
              "      <th>DAY(start) = 29</th>\n",
              "      <th>DAY(start) is unknown</th>\n",
              "      <th>IS_WEEKEND(created)</th>\n",
              "      <th>IS_WEEKEND(start)</th>\n",
              "      <th>MONTH(created) = 4</th>\n",
              "      <th>MONTH(created) = 3</th>\n",
              "      <th>MONTH(created) = 2</th>\n",
              "      <th>MONTH(created) = 1</th>\n",
              "      <th>MONTH(created) is unknown</th>\n",
              "      <th>MONTH(start) = 4</th>\n",
              "      <th>MONTH(start) is unknown</th>\n",
              "      <th>WEEKDAY(created) = 4</th>\n",
              "      <th>WEEKDAY(created) = 2</th>\n",
              "      <th>WEEKDAY(created) = 1</th>\n",
              "      <th>WEEKDAY(created) = 3</th>\n",
              "      <th>WEEKDAY(created) = 0</th>\n",
              "      <th>WEEKDAY(created) is unknown</th>\n",
              "      <th>WEEKDAY(start) = 4</th>\n",
              "      <th>WEEKDAY(start) is unknown</th>\n",
              "      <th>YEAR(created) = 2016</th>\n",
              "      <th>YEAR(created) is unknown</th>\n",
              "      <th>YEAR(start) = 2016</th>\n",
              "      <th>YEAR(start) is unknown</th>\n",
              "      <th>Appointment_Participant.actor = 74200000000000</th>\n",
              "      <th>Appointment_Participant.actor = 713000000000000</th>\n",
              "      <th>Appointment_Participant.actor = 41400000000000</th>\n",
              "      <th>Appointment_Participant.actor = 28200000000000</th>\n",
              "      <th>Appointment_Participant.actor = 7270000000000</th>\n",
              "      <th>Appointment_Participant.actor = 7230000000000</th>\n",
              "      <th>Appointment_Participant.actor = 4920000000000</th>\n",
              "      <th>Appointment_Participant.actor = 3880000000000</th>\n",
              "      <th>Appointment_Participant.actor = 2760000000000</th>\n",
              "      <th>Appointment_Participant.actor = 735000000000000</th>\n",
              "      <th>Appointment_Participant.actor is unknown</th>\n",
              "      <th>Appointment_Participant.COUNT(Appointment)</th>\n",
              "      <th>label</th>\n",
              "    </tr>\n",
              "  </thead>\n",
              "  <tbody>\n",
              "    <tr>\n",
              "      <th>0</th>\n",
              "      <td>False</td>\n",
              "      <td>False</td>\n",
              "      <td>False</td>\n",
              "      <td>False</td>\n",
              "      <td>False</td>\n",
              "      <td>False</td>\n",
              "      <td>False</td>\n",
              "      <td>False</td>\n",
              "      <td>False</td>\n",
              "      <td>False</td>\n",
              "      <td>True</td>\n",
              "      <td>True</td>\n",
              "      <td>False</td>\n",
              "      <td>False</td>\n",
              "      <td>False</td>\n",
              "      <td>False</td>\n",
              "      <td>False</td>\n",
              "      <td>False</td>\n",
              "      <td>False</td>\n",
              "      <td>False</td>\n",
              "      <td>False</td>\n",
              "      <td>False</td>\n",
              "      <td>True</td>\n",
              "      <td>False</td>\n",
              "      <td>False</td>\n",
              "      <td>False</td>\n",
              "      <td>True</td>\n",
              "      <td>False</td>\n",
              "      <td>False</td>\n",
              "      <td>False</td>\n",
              "      <td>False</td>\n",
              "      <td>True</td>\n",
              "      <td>False</td>\n",
              "      <td>True</td>\n",
              "      <td>False</td>\n",
              "      <td>False</td>\n",
              "      <td>False</td>\n",
              "      <td>False</td>\n",
              "      <td>False</td>\n",
              "      <td>True</td>\n",
              "      <td>False</td>\n",
              "      <td>True</td>\n",
              "      <td>False</td>\n",
              "      <td>True</td>\n",
              "      <td>False</td>\n",
              "      <td>False</td>\n",
              "      <td>False</td>\n",
              "      <td>False</td>\n",
              "      <td>False</td>\n",
              "      <td>False</td>\n",
              "      <td>False</td>\n",
              "      <td>False</td>\n",
              "      <td>False</td>\n",
              "      <td>False</td>\n",
              "      <td>False</td>\n",
              "      <td>True</td>\n",
              "      <td>39</td>\n",
              "      <td>noshow</td>\n",
              "    </tr>\n",
              "    <tr>\n",
              "      <th>1</th>\n",
              "      <td>False</td>\n",
              "      <td>False</td>\n",
              "      <td>False</td>\n",
              "      <td>False</td>\n",
              "      <td>False</td>\n",
              "      <td>False</td>\n",
              "      <td>False</td>\n",
              "      <td>False</td>\n",
              "      <td>False</td>\n",
              "      <td>False</td>\n",
              "      <td>True</td>\n",
              "      <td>True</td>\n",
              "      <td>False</td>\n",
              "      <td>False</td>\n",
              "      <td>False</td>\n",
              "      <td>False</td>\n",
              "      <td>False</td>\n",
              "      <td>False</td>\n",
              "      <td>False</td>\n",
              "      <td>False</td>\n",
              "      <td>False</td>\n",
              "      <td>False</td>\n",
              "      <td>True</td>\n",
              "      <td>False</td>\n",
              "      <td>False</td>\n",
              "      <td>False</td>\n",
              "      <td>True</td>\n",
              "      <td>False</td>\n",
              "      <td>False</td>\n",
              "      <td>False</td>\n",
              "      <td>False</td>\n",
              "      <td>True</td>\n",
              "      <td>False</td>\n",
              "      <td>True</td>\n",
              "      <td>False</td>\n",
              "      <td>False</td>\n",
              "      <td>False</td>\n",
              "      <td>False</td>\n",
              "      <td>False</td>\n",
              "      <td>True</td>\n",
              "      <td>False</td>\n",
              "      <td>True</td>\n",
              "      <td>False</td>\n",
              "      <td>True</td>\n",
              "      <td>False</td>\n",
              "      <td>False</td>\n",
              "      <td>False</td>\n",
              "      <td>False</td>\n",
              "      <td>False</td>\n",
              "      <td>False</td>\n",
              "      <td>False</td>\n",
              "      <td>False</td>\n",
              "      <td>False</td>\n",
              "      <td>False</td>\n",
              "      <td>False</td>\n",
              "      <td>True</td>\n",
              "      <td>27</td>\n",
              "      <td>noshow</td>\n",
              "    </tr>\n",
              "    <tr>\n",
              "      <th>2</th>\n",
              "      <td>False</td>\n",
              "      <td>False</td>\n",
              "      <td>False</td>\n",
              "      <td>False</td>\n",
              "      <td>False</td>\n",
              "      <td>False</td>\n",
              "      <td>False</td>\n",
              "      <td>False</td>\n",
              "      <td>False</td>\n",
              "      <td>False</td>\n",
              "      <td>True</td>\n",
              "      <td>True</td>\n",
              "      <td>False</td>\n",
              "      <td>False</td>\n",
              "      <td>False</td>\n",
              "      <td>False</td>\n",
              "      <td>False</td>\n",
              "      <td>False</td>\n",
              "      <td>False</td>\n",
              "      <td>False</td>\n",
              "      <td>False</td>\n",
              "      <td>False</td>\n",
              "      <td>True</td>\n",
              "      <td>False</td>\n",
              "      <td>False</td>\n",
              "      <td>False</td>\n",
              "      <td>True</td>\n",
              "      <td>False</td>\n",
              "      <td>False</td>\n",
              "      <td>False</td>\n",
              "      <td>False</td>\n",
              "      <td>True</td>\n",
              "      <td>False</td>\n",
              "      <td>True</td>\n",
              "      <td>False</td>\n",
              "      <td>False</td>\n",
              "      <td>False</td>\n",
              "      <td>False</td>\n",
              "      <td>False</td>\n",
              "      <td>True</td>\n",
              "      <td>False</td>\n",
              "      <td>True</td>\n",
              "      <td>False</td>\n",
              "      <td>True</td>\n",
              "      <td>False</td>\n",
              "      <td>False</td>\n",
              "      <td>False</td>\n",
              "      <td>False</td>\n",
              "      <td>False</td>\n",
              "      <td>False</td>\n",
              "      <td>False</td>\n",
              "      <td>False</td>\n",
              "      <td>False</td>\n",
              "      <td>False</td>\n",
              "      <td>False</td>\n",
              "      <td>True</td>\n",
              "      <td>55</td>\n",
              "      <td>noshow</td>\n",
              "    </tr>\n",
              "    <tr>\n",
              "      <th>3</th>\n",
              "      <td>False</td>\n",
              "      <td>False</td>\n",
              "      <td>False</td>\n",
              "      <td>False</td>\n",
              "      <td>False</td>\n",
              "      <td>False</td>\n",
              "      <td>False</td>\n",
              "      <td>False</td>\n",
              "      <td>False</td>\n",
              "      <td>False</td>\n",
              "      <td>True</td>\n",
              "      <td>True</td>\n",
              "      <td>False</td>\n",
              "      <td>False</td>\n",
              "      <td>False</td>\n",
              "      <td>False</td>\n",
              "      <td>False</td>\n",
              "      <td>False</td>\n",
              "      <td>False</td>\n",
              "      <td>False</td>\n",
              "      <td>False</td>\n",
              "      <td>False</td>\n",
              "      <td>True</td>\n",
              "      <td>False</td>\n",
              "      <td>False</td>\n",
              "      <td>False</td>\n",
              "      <td>True</td>\n",
              "      <td>False</td>\n",
              "      <td>False</td>\n",
              "      <td>False</td>\n",
              "      <td>False</td>\n",
              "      <td>True</td>\n",
              "      <td>False</td>\n",
              "      <td>True</td>\n",
              "      <td>False</td>\n",
              "      <td>False</td>\n",
              "      <td>False</td>\n",
              "      <td>False</td>\n",
              "      <td>False</td>\n",
              "      <td>True</td>\n",
              "      <td>False</td>\n",
              "      <td>True</td>\n",
              "      <td>False</td>\n",
              "      <td>True</td>\n",
              "      <td>False</td>\n",
              "      <td>False</td>\n",
              "      <td>False</td>\n",
              "      <td>False</td>\n",
              "      <td>False</td>\n",
              "      <td>False</td>\n",
              "      <td>False</td>\n",
              "      <td>False</td>\n",
              "      <td>False</td>\n",
              "      <td>False</td>\n",
              "      <td>False</td>\n",
              "      <td>True</td>\n",
              "      <td>39</td>\n",
              "      <td>noshow</td>\n",
              "    </tr>\n",
              "    <tr>\n",
              "      <th>4</th>\n",
              "      <td>False</td>\n",
              "      <td>False</td>\n",
              "      <td>False</td>\n",
              "      <td>False</td>\n",
              "      <td>False</td>\n",
              "      <td>False</td>\n",
              "      <td>False</td>\n",
              "      <td>False</td>\n",
              "      <td>False</td>\n",
              "      <td>False</td>\n",
              "      <td>True</td>\n",
              "      <td>True</td>\n",
              "      <td>False</td>\n",
              "      <td>False</td>\n",
              "      <td>False</td>\n",
              "      <td>False</td>\n",
              "      <td>False</td>\n",
              "      <td>False</td>\n",
              "      <td>False</td>\n",
              "      <td>False</td>\n",
              "      <td>False</td>\n",
              "      <td>False</td>\n",
              "      <td>True</td>\n",
              "      <td>False</td>\n",
              "      <td>False</td>\n",
              "      <td>False</td>\n",
              "      <td>True</td>\n",
              "      <td>False</td>\n",
              "      <td>False</td>\n",
              "      <td>False</td>\n",
              "      <td>False</td>\n",
              "      <td>True</td>\n",
              "      <td>False</td>\n",
              "      <td>True</td>\n",
              "      <td>False</td>\n",
              "      <td>False</td>\n",
              "      <td>False</td>\n",
              "      <td>False</td>\n",
              "      <td>False</td>\n",
              "      <td>True</td>\n",
              "      <td>False</td>\n",
              "      <td>True</td>\n",
              "      <td>False</td>\n",
              "      <td>True</td>\n",
              "      <td>False</td>\n",
              "      <td>False</td>\n",
              "      <td>False</td>\n",
              "      <td>False</td>\n",
              "      <td>False</td>\n",
              "      <td>False</td>\n",
              "      <td>False</td>\n",
              "      <td>False</td>\n",
              "      <td>False</td>\n",
              "      <td>False</td>\n",
              "      <td>False</td>\n",
              "      <td>True</td>\n",
              "      <td>28</td>\n",
              "      <td>noshow</td>\n",
              "    </tr>\n",
              "  </tbody>\n",
              "</table>\n",
              "</div>"
            ],
            "text/plain": [
              "   participant = 2680425062  ...   label\n",
              "0                     False  ...  noshow\n",
              "1                     False  ...  noshow\n",
              "2                     False  ...  noshow\n",
              "3                     False  ...  noshow\n",
              "4                     False  ...  noshow\n",
              "\n",
              "[5 rows x 58 columns]"
            ]
          },
          "metadata": {},
          "execution_count": 9
        }
      ]
    },
    {
      "cell_type": "code",
      "metadata": {
        "id": "NJSdjm13xqtD"
      },
      "source": [
        "# shuffle the dataframe\n",
        "feature_matrix = feature_matrix.sample(frac=1)\n",
        "\n",
        "# pop the target labels\n",
        "y = list(feature_matrix.pop('label'))\n",
        "X = feature_matrix.values\n",
        "\n",
        "X_train, X_test, y_train, y_test = cd.train_test_split(X, y, test_size=0.2, shuffle=True)"
      ],
      "execution_count": 10,
      "outputs": []
    },
    {
      "cell_type": "code",
      "metadata": {
        "id": "J17miH1mxsjc"
      },
      "source": [
        "# modeling\n",
        "cd.select_pipeline('Random Forest')\n",
        "cd.fit(X_train, y_train)\n",
        "y_pred = cd.predict(X_test)"
      ],
      "execution_count": 11,
      "outputs": []
    },
    {
      "cell_type": "code",
      "metadata": {
        "colab": {
          "base_uri": "https://localhost:8080/"
        },
        "id": "mgp8x_4ExtZJ",
        "outputId": "93ad141e-3cff-4ed4-abf0-2bfa5991ab87"
      },
      "source": [
        "cd.evaluate(X, y, test_size=0.2, shuffle=True)"
      ],
      "execution_count": 12,
      "outputs": [
        {
          "output_type": "execute_result",
          "data": {
            "text/plain": [
              "{'Accuracy': 0.77, 'Confusion Matrix': array([[  3,  30],\n",
              "        [ 16, 151]]), 'F1 Macro': 0.4916003536693192, 'Precision': 0.49607444024425706, 'Recall': 0.497550353837779}"
            ]
          },
          "metadata": {},
          "execution_count": 12
        }
      ]
    },
    {
      "cell_type": "code",
      "metadata": {
        "id": "aWJGfBqMxu51"
      },
      "source": [
        "# modeling1\n",
        "cd.select_pipeline('Logistic Regression')\n",
        "cd.fit(X_train, y_train)\n",
        "y_pred = cd.predict(X_test)"
      ],
      "execution_count": 13,
      "outputs": []
    },
    {
      "cell_type": "code",
      "metadata": {
        "colab": {
          "base_uri": "https://localhost:8080/"
        },
        "id": "G3lGFOBexwYq",
        "outputId": "af5acd0b-0e0a-40f6-c43c-9a90f1a25b32"
      },
      "source": [
        "cd.evaluate(X, y, test_size=0.2, shuffle=True)"
      ],
      "execution_count": 14,
      "outputs": [
        {
          "output_type": "execute_result",
          "data": {
            "text/plain": [
              "{'Accuracy': 0.83, 'Confusion Matrix': array([[  0,  34],\n",
              "        [  0, 166]]), 'F1 Macro': 0.45355191256830596, 'Precision': 0.415, 'Recall': 0.5}"
            ]
          },
          "metadata": {},
          "execution_count": 14
        }
      ]
    },
    {
      "cell_type": "code",
      "metadata": {
        "id": "5isjwHevwsEZ"
      },
      "source": [
        "# modeling2\n",
        "cd.select_pipeline('Gaussian Naive Bayes')\n",
        "cd.fit(X_train, y_train)\n",
        "y_pred = cd.predict(X_test)"
      ],
      "execution_count": 15,
      "outputs": []
    },
    {
      "cell_type": "code",
      "metadata": {
        "colab": {
          "base_uri": "https://localhost:8080/"
        },
        "id": "5KD7T-PkwsEd",
        "outputId": "d9c37126-33ba-4dff-9aae-d8f562306af5"
      },
      "source": [
        "cd.evaluate(X, y, test_size=0.2, shuffle=True)"
      ],
      "execution_count": 16,
      "outputs": [
        {
          "output_type": "execute_result",
          "data": {
            "text/plain": [
              "{'Accuracy': 0.175, 'Confusion Matrix': array([[ 28,   0],\n",
              "        [165,   7]]), 'F1 Macro': 0.16580297783058218, 'Precision': 0.572538860103627, 'Recall': 0.5203488372093024}"
            ]
          },
          "metadata": {},
          "execution_count": 16
        }
      ]
    },
    {
      "cell_type": "code",
      "metadata": {
        "id": "oJAsUsQRwszz"
      },
      "source": [
        "# modeling3\n",
        "cd.select_pipeline('Gradient Boosting')\n",
        "cd.fit(X_train, y_train)\n",
        "y_pred = cd.predict(X_test)"
      ],
      "execution_count": 17,
      "outputs": []
    },
    {
      "cell_type": "code",
      "metadata": {
        "colab": {
          "base_uri": "https://localhost:8080/"
        },
        "id": "zHuJqMfHwzmx",
        "outputId": "8cb43022-1b64-40e9-fb84-c11e25f537f3"
      },
      "source": [
        "cd.evaluate(X, y, test_size=0.2, shuffle=True)"
      ],
      "execution_count": 18,
      "outputs": [
        {
          "output_type": "execute_result",
          "data": {
            "text/plain": [
              "{'Accuracy': 0.78, 'Confusion Matrix': array([[  0,  44],\n",
              "        [  0, 156]]), 'F1 Macro': 0.43820224719101125, 'Precision': 0.39, 'Recall': 0.5}"
            ]
          },
          "metadata": {},
          "execution_count": 18
        }
      ]
    },
    {
      "cell_type": "code",
      "metadata": {
        "id": "kxTZ_oawwvkr"
      },
      "source": [
        "# modeling4\n",
        "cd.select_pipeline('K-Nearest Neightbors')\n",
        "cd.fit(X_train, y_train)\n",
        "y_pred = cd.predict(X_test)"
      ],
      "execution_count": 19,
      "outputs": []
    },
    {
      "cell_type": "code",
      "metadata": {
        "colab": {
          "base_uri": "https://localhost:8080/"
        },
        "id": "e4jF_Oo6wsz0",
        "outputId": "5b0c00bb-fc15-4ff8-8b2d-f35bb8955db3"
      },
      "source": [
        "cd.evaluate(X, y, test_size=0.2, shuffle=True)"
      ],
      "execution_count": 20,
      "outputs": [
        {
          "output_type": "execute_result",
          "data": {
            "text/plain": [
              "{'Accuracy': 0.775, 'Confusion Matrix': array([[  4,  34],\n",
              "        [ 11, 151]]), 'F1 Macro': 0.5106301995541297, 'Precision': 0.5414414414414415, 'Recall': 0.5186809616634178}"
            ]
          },
          "metadata": {},
          "execution_count": 20
        }
      ]
    },
    {
      "cell_type": "code",
      "metadata": {
        "id": "MlmYmSC2w9pp"
      },
      "source": [
        "# modeling5\n",
        "cd.select_pipeline('Multinomial Naive Bayes')\n",
        "cd.fit(X_train, y_train)\n",
        "y_pred = cd.predict(X_test)"
      ],
      "execution_count": 21,
      "outputs": []
    },
    {
      "cell_type": "code",
      "metadata": {
        "colab": {
          "base_uri": "https://localhost:8080/"
        },
        "id": "e37yogBfw9pq",
        "outputId": "bba2dc24-eb5e-4501-cdc6-07e3d69308df"
      },
      "source": [
        "cd.evaluate(X, y, test_size=0.2, shuffle=True)"
      ],
      "execution_count": 22,
      "outputs": [
        {
          "output_type": "execute_result",
          "data": {
            "text/plain": [
              "{'Accuracy': 0.815, 'Confusion Matrix': array([[  4,  32],\n",
              "        [  5, 159]]), 'F1 Macro': 0.5367762128325508, 'Precision': 0.6384525887143688, 'Recall': 0.5403116531165312}"
            ]
          },
          "metadata": {},
          "execution_count": 22
        }
      ]
    },
    {
      "cell_type": "code",
      "metadata": {
        "id": "LYGzp83tw_SE"
      },
      "source": [
        "# modeling6\n",
        "cd.select_pipeline('Stochastic Gradient Descent')\n",
        "cd.fit(X_train, y_train)\n",
        "y_pred = cd.predict(X_test)"
      ],
      "execution_count": 23,
      "outputs": []
    },
    {
      "cell_type": "code",
      "metadata": {
        "colab": {
          "base_uri": "https://localhost:8080/"
        },
        "id": "RGAS2JLOw_SE",
        "outputId": "2655d2d4-84b1-4558-e8b6-9297fab7158e"
      },
      "source": [
        "cd.evaluate(X, y, test_size=0.2, shuffle=True)"
      ],
      "execution_count": 24,
      "outputs": [
        {
          "output_type": "execute_result",
          "data": {
            "text/plain": [
              "{'Accuracy': 0.835, 'Confusion Matrix': array([[  0,  33],\n",
              "        [  0, 167]]), 'F1 Macro': 0.4550408719346049, 'Precision': 0.4175, 'Recall': 0.5}"
            ]
          },
          "metadata": {},
          "execution_count": 24
        }
      ]
    },
    {
      "cell_type": "code",
      "metadata": {
        "id": "kLybGfWExOEC"
      },
      "source": [
        "# modeling7\n",
        "cd.select_pipeline('XGB')\n",
        "cd.fit(X_train, y_train)\n",
        "y_pred = cd.predict(X_test)"
      ],
      "execution_count": 25,
      "outputs": []
    },
    {
      "cell_type": "code",
      "metadata": {
        "colab": {
          "base_uri": "https://localhost:8080/"
        },
        "id": "bJngrVqmxOED",
        "outputId": "2eaa4d42-8f2f-41fb-8655-71af4657d8a1"
      },
      "source": [
        "cd.evaluate(X, y, test_size=0.2, shuffle=True)"
      ],
      "execution_count": 26,
      "outputs": [
        {
          "output_type": "execute_result",
          "data": {
            "text/plain": [
              "{'Accuracy': 0.83, 'Confusion Matrix': array([[  0,  34],\n",
              "        [  0, 166]]), 'F1 Macro': 0.45355191256830596, 'Precision': 0.415, 'Recall': 0.5}"
            ]
          },
          "metadata": {},
          "execution_count": 26
        }
      ]
    },
    {
      "cell_type": "code",
      "metadata": {
        "id": "sda9FLoJ_CLJ"
      },
      "source": [
        "#Import GridSearh & RandomSearch\n",
        "from sklearn.model_selection import GridSearchCV\n",
        "from sklearn.model_selection import RandomizedSearchCV"
      ],
      "execution_count": 27,
      "outputs": []
    },
    {
      "cell_type": "code",
      "metadata": {
        "id": "QzeU6aunlum5"
      },
      "source": [
        "# PARAMETER"
      ],
      "execution_count": 28,
      "outputs": []
    },
    {
      "cell_type": "code",
      "metadata": {
        "id": "VkMTjJHLEgFD"
      },
      "source": [
        "param_rf = [{'criterion': (\"gini\",\"entropy\"), 'n_estimators': (10, 100, 1000)}] #Parameter Random Forest\n",
        "param_lr = [{'C': np.logspace(-3,3,5,7), \"penalty\": [\"l1\",\"l2\"], \"fit_intercept\": ['True', 'False']}] #Parameter Logistic Regression\n",
        "param_gnb = [{'var_smoothing': [1e-9]}] #Parameter Gaussian Naive Bayes\n",
        "param_gb = [{'learning_rate': [0.001, 0.01, 0.1, 0.3], 'n_estimators': [10, 100, 1000]}] #Parameter Gradient Boosting\n",
        "param_knn = [{'n_neighbors': [5], 'weights': ['uniform', 'distance'], 'algorithm': ['auto', 'ball_tree', 'kd_tree', 'brute']}] #Parameter k-nearest neighbors\n",
        "param_mnb = [{'alpha': [1.0, 0.01, 0.001], \"fit_prior\": ['True', 'False']}] #Parameter Multinomial Naive Bayes\n",
        "param_sgd = [{'loss': ['hinge', 'log', 'modified_huber', 'squared_hinge', 'perceptron', 'huber', 'epsilon_insensitive', 'squared_epsilon_insensitive'], 'penalty': ['l2', 'l1', 'elasticnet']}] #Parameter Stochastic Gradient Descent\n",
        "param_xgb = [{'booster': ['gbtree', 'gblinear']}]"
      ],
      "execution_count": 29,
      "outputs": []
    },
    {
      "cell_type": "code",
      "metadata": {
        "id": "lTABuwvqboOh"
      },
      "source": [
        "#GridSearch Random Forest"
      ],
      "execution_count": 30,
      "outputs": []
    },
    {
      "cell_type": "code",
      "metadata": {
        "colab": {
          "base_uri": "https://localhost:8080/"
        },
        "id": "T6PXr8nsTgOp",
        "outputId": "db0584f5-5c27-4325-a96e-623b7a4aeaa7"
      },
      "source": [
        "gridsearch = GridSearchCV(RandomForestClassifier(), param_rf, scoring='accuracy')\n",
        "gridsearch.fit(X_train, y_train)"
      ],
      "execution_count": 31,
      "outputs": [
        {
          "output_type": "execute_result",
          "data": {
            "text/plain": [
              "GridSearchCV(cv='warn', error_score='raise-deprecating',\n",
              "             estimator=RandomForestClassifier(bootstrap=True, class_weight=None,\n",
              "                                              criterion='gini', max_depth=None,\n",
              "                                              max_features='auto',\n",
              "                                              max_leaf_nodes=None,\n",
              "                                              min_impurity_decrease=0.0,\n",
              "                                              min_impurity_split=None,\n",
              "                                              min_samples_leaf=1,\n",
              "                                              min_samples_split=2,\n",
              "                                              min_weight_fraction_leaf=0.0,\n",
              "                                              n_estimators='warn', n_jobs=None,\n",
              "                                              oob_score=False,\n",
              "                                              random_state=None, verbose=0,\n",
              "                                              warm_start=False),\n",
              "             iid='warn', n_jobs=None,\n",
              "             param_grid=[{'criterion': ('gini', 'entropy'),\n",
              "                          'n_estimators': (10, 100, 1000)}],\n",
              "             pre_dispatch='2*n_jobs', refit=True, return_train_score=False,\n",
              "             scoring='accuracy', verbose=0)"
            ]
          },
          "metadata": {},
          "execution_count": 31
        }
      ]
    },
    {
      "cell_type": "code",
      "metadata": {
        "id": "rsWgvigWbuGn"
      },
      "source": [
        "#GridSearch Logistic Regression"
      ],
      "execution_count": 32,
      "outputs": []
    },
    {
      "cell_type": "code",
      "metadata": {
        "colab": {
          "base_uri": "https://localhost:8080/"
        },
        "id": "FilpFXsHzBHI",
        "outputId": "719a026c-93f8-4ca1-8078-ecf5031e5845"
      },
      "source": [
        "gridsearch1 = GridSearchCV(LogisticRegression(), param_lr, scoring='accuracy')\n",
        "gridsearch1.fit(X_train, y_train)"
      ],
      "execution_count": 33,
      "outputs": [
        {
          "output_type": "execute_result",
          "data": {
            "text/plain": [
              "GridSearchCV(cv='warn', error_score='raise-deprecating',\n",
              "             estimator=LogisticRegression(C=1.0, class_weight=None, dual=False,\n",
              "                                          fit_intercept=True,\n",
              "                                          intercept_scaling=1, l1_ratio=None,\n",
              "                                          max_iter=100, multi_class='warn',\n",
              "                                          n_jobs=None, penalty='l2',\n",
              "                                          random_state=None, solver='warn',\n",
              "                                          tol=0.0001, verbose=0,\n",
              "                                          warm_start=False),\n",
              "             iid='warn', n_jobs=None,\n",
              "             param_grid=[{'C': array([1.00000000e-03, 3.16227766e-02, 1.00000000e+00, 3.16227766e+01,\n",
              "       1.00000000e+03]),\n",
              "                          'fit_intercept': ['True', 'False'],\n",
              "                          'penalty': ['l1', 'l2']}],\n",
              "             pre_dispatch='2*n_jobs', refit=True, return_train_score=False,\n",
              "             scoring='accuracy', verbose=0)"
            ]
          },
          "metadata": {},
          "execution_count": 33
        }
      ]
    },
    {
      "cell_type": "code",
      "metadata": {
        "id": "Vg_GsHoK2d7y"
      },
      "source": [
        "#GridSearch Gaussian Naive Bayes"
      ],
      "execution_count": 34,
      "outputs": []
    },
    {
      "cell_type": "code",
      "metadata": {
        "colab": {
          "base_uri": "https://localhost:8080/"
        },
        "id": "p1UFgDUjccyb",
        "outputId": "e84d16ae-5516-47ae-fdca-106ffeaf2845"
      },
      "source": [
        "gridsearch2 = GridSearchCV(GaussianNB(), param_gnb, scoring='accuracy')\n",
        "gridsearch2.fit(X_train, y_train) # LR"
      ],
      "execution_count": 35,
      "outputs": [
        {
          "output_type": "execute_result",
          "data": {
            "text/plain": [
              "GridSearchCV(cv='warn', error_score='raise-deprecating',\n",
              "             estimator=GaussianNB(priors=None, var_smoothing=1e-09), iid='warn',\n",
              "             n_jobs=None, param_grid=[{'var_smoothing': [1e-09]}],\n",
              "             pre_dispatch='2*n_jobs', refit=True, return_train_score=False,\n",
              "             scoring='accuracy', verbose=0)"
            ]
          },
          "metadata": {},
          "execution_count": 35
        }
      ]
    },
    {
      "cell_type": "code",
      "metadata": {
        "id": "NpMUAsbNcLcH"
      },
      "source": [
        "#GridSearch Gradient Boosting"
      ],
      "execution_count": 36,
      "outputs": []
    },
    {
      "cell_type": "code",
      "metadata": {
        "colab": {
          "base_uri": "https://localhost:8080/"
        },
        "id": "__XSn_ZtMkw7",
        "outputId": "743d3e09-5c87-4ded-f74a-9d9d142c7a0c"
      },
      "source": [
        "gridsearch3 = GridSearchCV(GradientBoostingClassifier(), param_gb, scoring='accuracy')\n",
        "gridsearch3.fit(X_train, y_train)"
      ],
      "execution_count": 37,
      "outputs": [
        {
          "output_type": "execute_result",
          "data": {
            "text/plain": [
              "GridSearchCV(cv='warn', error_score='raise-deprecating',\n",
              "             estimator=GradientBoostingClassifier(criterion='friedman_mse',\n",
              "                                                  init=None, learning_rate=0.1,\n",
              "                                                  loss='deviance', max_depth=3,\n",
              "                                                  max_features=None,\n",
              "                                                  max_leaf_nodes=None,\n",
              "                                                  min_impurity_decrease=0.0,\n",
              "                                                  min_impurity_split=None,\n",
              "                                                  min_samples_leaf=1,\n",
              "                                                  min_samples_split=2,\n",
              "                                                  min_weight_fraction_leaf=0.0,\n",
              "                                                  n_estimators=100,\n",
              "                                                  n_iter_no_change=None,\n",
              "                                                  presort='auto',\n",
              "                                                  random_state=None,\n",
              "                                                  subsample=1.0, tol=0.0001,\n",
              "                                                  validation_fraction=0.1,\n",
              "                                                  verbose=0, warm_start=False),\n",
              "             iid='warn', n_jobs=None,\n",
              "             param_grid=[{'learning_rate': [0.001, 0.01, 0.1, 0.3],\n",
              "                          'n_estimators': [10, 100, 1000]}],\n",
              "             pre_dispatch='2*n_jobs', refit=True, return_train_score=False,\n",
              "             scoring='accuracy', verbose=0)"
            ]
          },
          "metadata": {},
          "execution_count": 37
        }
      ]
    },
    {
      "cell_type": "code",
      "metadata": {
        "id": "T0IJdk9H5gBd"
      },
      "source": [
        "#GridSearch K-Nearest Neightbors"
      ],
      "execution_count": 38,
      "outputs": []
    },
    {
      "cell_type": "code",
      "metadata": {
        "colab": {
          "base_uri": "https://localhost:8080/"
        },
        "id": "i2LBBrkC5gBd",
        "outputId": "6c6a5781-7f79-4508-d9e3-534f916a3b09"
      },
      "source": [
        "gridsearch4 = GridSearchCV(KNeighborsClassifier(), param_knn, scoring='accuracy')\n",
        "gridsearch4.fit(X_train, y_train)"
      ],
      "execution_count": 39,
      "outputs": [
        {
          "output_type": "execute_result",
          "data": {
            "text/plain": [
              "GridSearchCV(cv='warn', error_score='raise-deprecating',\n",
              "             estimator=KNeighborsClassifier(algorithm='auto', leaf_size=30,\n",
              "                                            metric='minkowski',\n",
              "                                            metric_params=None, n_jobs=None,\n",
              "                                            n_neighbors=5, p=2,\n",
              "                                            weights='uniform'),\n",
              "             iid='warn', n_jobs=None,\n",
              "             param_grid=[{'algorithm': ['auto', 'ball_tree', 'kd_tree',\n",
              "                                        'brute'],\n",
              "                          'n_neighbors': [5],\n",
              "                          'weights': ['uniform', 'distance']}],\n",
              "             pre_dispatch='2*n_jobs', refit=True, return_train_score=False,\n",
              "             scoring='accuracy', verbose=0)"
            ]
          },
          "metadata": {},
          "execution_count": 39
        }
      ]
    },
    {
      "cell_type": "code",
      "metadata": {
        "id": "9tAsc1Bm48iy"
      },
      "source": [
        "# GridSearch Multinomial Naive Bayes"
      ],
      "execution_count": 40,
      "outputs": []
    },
    {
      "cell_type": "code",
      "metadata": {
        "colab": {
          "base_uri": "https://localhost:8080/"
        },
        "id": "CflWts8U4w1q",
        "outputId": "a853a477-d699-449a-b75d-2e6988c6a8d3"
      },
      "source": [
        "gridsearch5 = GridSearchCV(MultinomialNB(), param_mnb, scoring='accuracy')\n",
        "gridsearch5.fit(X_train, y_train)"
      ],
      "execution_count": 41,
      "outputs": [
        {
          "output_type": "execute_result",
          "data": {
            "text/plain": [
              "GridSearchCV(cv='warn', error_score='raise-deprecating',\n",
              "             estimator=MultinomialNB(alpha=1.0, class_prior=None,\n",
              "                                     fit_prior=True),\n",
              "             iid='warn', n_jobs=None,\n",
              "             param_grid=[{'alpha': [1.0, 0.01, 0.001],\n",
              "                          'fit_prior': ['True', 'False']}],\n",
              "             pre_dispatch='2*n_jobs', refit=True, return_train_score=False,\n",
              "             scoring='accuracy', verbose=0)"
            ]
          },
          "metadata": {},
          "execution_count": 41
        }
      ]
    },
    {
      "cell_type": "code",
      "metadata": {
        "id": "KrsKJd3Q5F8M"
      },
      "source": [
        "# GridSearch Stochastic Gradient Descent"
      ],
      "execution_count": 42,
      "outputs": []
    },
    {
      "cell_type": "code",
      "metadata": {
        "colab": {
          "base_uri": "https://localhost:8080/"
        },
        "id": "AOqZOQqy5F8N",
        "outputId": "f7804202-1eb4-4a9a-ae6c-756befa54d5a"
      },
      "source": [
        "gridsearch6 = GridSearchCV(SGDClassifier(), param_sgd, scoring='accuracy')\n",
        "gridsearch6.fit(X_train, y_train)"
      ],
      "execution_count": 43,
      "outputs": [
        {
          "output_type": "execute_result",
          "data": {
            "text/plain": [
              "GridSearchCV(cv='warn', error_score='raise-deprecating',\n",
              "             estimator=SGDClassifier(alpha=0.0001, average=False,\n",
              "                                     class_weight=None, early_stopping=False,\n",
              "                                     epsilon=0.1, eta0=0.0, fit_intercept=True,\n",
              "                                     l1_ratio=0.15, learning_rate='optimal',\n",
              "                                     loss='hinge', max_iter=1000,\n",
              "                                     n_iter_no_change=5, n_jobs=None,\n",
              "                                     penalty='l2', power_t=0.5,\n",
              "                                     random_state=None, shuffle=True, tol=0.001,\n",
              "                                     validation_fraction=0.1, verbose=0,\n",
              "                                     warm_start=False),\n",
              "             iid='warn', n_jobs=None,\n",
              "             param_grid=[{'loss': ['hinge', 'log', 'modified_huber',\n",
              "                                   'squared_hinge', 'perceptron', 'huber',\n",
              "                                   'epsilon_insensitive',\n",
              "                                   'squared_epsilon_insensitive'],\n",
              "                          'penalty': ['l2', 'l1', 'elasticnet']}],\n",
              "             pre_dispatch='2*n_jobs', refit=True, return_train_score=False,\n",
              "             scoring='accuracy', verbose=0)"
            ]
          },
          "metadata": {},
          "execution_count": 43
        }
      ]
    },
    {
      "cell_type": "code",
      "metadata": {
        "id": "vz-7HF5O5Gvn"
      },
      "source": [
        "# GridSearch XGB"
      ],
      "execution_count": 44,
      "outputs": []
    },
    {
      "cell_type": "code",
      "metadata": {
        "colab": {
          "base_uri": "https://localhost:8080/"
        },
        "id": "ml4v21h75Gvn",
        "outputId": "ba521b35-4723-47b9-d1e5-9bc284e0f309"
      },
      "source": [
        "gridsearch7 = GridSearchCV(XGBClassifier(), param_xgb, scoring='accuracy')\n",
        "gridsearch7.fit(X_train, y_train)"
      ],
      "execution_count": 45,
      "outputs": [
        {
          "output_type": "execute_result",
          "data": {
            "text/plain": [
              "GridSearchCV(cv='warn', error_score='raise-deprecating',\n",
              "             estimator=XGBClassifier(base_score=0.5, booster='gbtree',\n",
              "                                     colsample_bylevel=1, colsample_bynode=1,\n",
              "                                     colsample_bytree=1, gamma=0,\n",
              "                                     learning_rate=0.1, max_delta_step=0,\n",
              "                                     max_depth=3, min_child_weight=1,\n",
              "                                     missing=None, n_estimators=100, n_jobs=1,\n",
              "                                     nthread=None, objective='binary:logistic',\n",
              "                                     random_state=0, reg_alpha=0, reg_lambda=1,\n",
              "                                     scale_pos_weight=1, seed=None, silent=None,\n",
              "                                     subsample=1, verbosity=1),\n",
              "             iid='warn', n_jobs=None,\n",
              "             param_grid=[{'booster': ['gbtree', 'gblinear']}],\n",
              "             pre_dispatch='2*n_jobs', refit=True, return_train_score=False,\n",
              "             scoring='accuracy', verbose=0)"
            ]
          },
          "metadata": {},
          "execution_count": 45
        }
      ]
    },
    {
      "cell_type": "code",
      "metadata": {
        "id": "-bPjQyOe9nlv"
      },
      "source": [
        "#Hasil GridSearch"
      ],
      "execution_count": 46,
      "outputs": []
    },
    {
      "cell_type": "code",
      "metadata": {
        "colab": {
          "base_uri": "https://localhost:8080/"
        },
        "id": "ezwlMzJNEZuF",
        "outputId": "b4de631b-4250-462c-b61c-b2a1f3b7c51a"
      },
      "source": [
        "print (gridsearch.best_params_) # RF\n",
        "print(gridsearch1.best_params_) # LR\n",
        "print(gridsearch2.best_params_) # GNB\n",
        "print(gridsearch3.best_params_) # GB\n",
        "print(gridsearch4.best_params_) # KNN\n",
        "print(gridsearch5.best_params_) # MNB\n",
        "print(gridsearch6.best_params_) # SGD\n",
        "print(gridsearch7.best_params_) # XGB"
      ],
      "execution_count": 47,
      "outputs": [
        {
          "output_type": "stream",
          "name": "stdout",
          "text": [
            "{'criterion': 'gini', 'n_estimators': 100}\n",
            "{'C': 0.001, 'fit_intercept': 'True', 'penalty': 'l1'}\n",
            "{'var_smoothing': 1e-09}\n",
            "{'learning_rate': 0.001, 'n_estimators': 10}\n",
            "{'algorithm': 'brute', 'n_neighbors': 5, 'weights': 'uniform'}\n",
            "{'alpha': 1.0, 'fit_prior': 'True'}\n",
            "{'loss': 'epsilon_insensitive', 'penalty': 'l2'}\n",
            "{'booster': 'gblinear'}\n"
          ]
        }
      ]
    },
    {
      "cell_type": "code",
      "metadata": {
        "id": "WsXQ_Pw__kL6"
      },
      "source": [
        "#RandomSearch Random Forest"
      ],
      "execution_count": 48,
      "outputs": []
    },
    {
      "cell_type": "code",
      "metadata": {
        "colab": {
          "base_uri": "https://localhost:8080/"
        },
        "id": "iXMRPI_T_hn7",
        "outputId": "5a25f367-57a0-4c36-97fa-6d20568d9130"
      },
      "source": [
        "randomsearch = RandomizedSearchCV(RandomForestClassifier(), param_rf, scoring='accuracy')\n",
        "randomsearch"
      ],
      "execution_count": 49,
      "outputs": [
        {
          "output_type": "execute_result",
          "data": {
            "text/plain": [
              "RandomizedSearchCV(cv='warn', error_score='raise-deprecating',\n",
              "                   estimator=RandomForestClassifier(bootstrap=True,\n",
              "                                                    class_weight=None,\n",
              "                                                    criterion='gini',\n",
              "                                                    max_depth=None,\n",
              "                                                    max_features='auto',\n",
              "                                                    max_leaf_nodes=None,\n",
              "                                                    min_impurity_decrease=0.0,\n",
              "                                                    min_impurity_split=None,\n",
              "                                                    min_samples_leaf=1,\n",
              "                                                    min_samples_split=2,\n",
              "                                                    min_weight_fraction_leaf=0.0,\n",
              "                                                    n_estimators='warn',\n",
              "                                                    n_jobs=None,\n",
              "                                                    oob_score=False,\n",
              "                                                    random_state=None,\n",
              "                                                    verbose=0,\n",
              "                                                    warm_start=False),\n",
              "                   iid='warn', n_iter=10, n_jobs=None,\n",
              "                   param_distributions=[{'criterion': ('gini', 'entropy'),\n",
              "                                         'n_estimators': (10, 100, 1000)}],\n",
              "                   pre_dispatch='2*n_jobs', random_state=None, refit=True,\n",
              "                   return_train_score=False, scoring='accuracy', verbose=0)"
            ]
          },
          "metadata": {},
          "execution_count": 49
        }
      ]
    },
    {
      "cell_type": "code",
      "metadata": {
        "id": "hgfQScHc_hn8"
      },
      "source": [
        "#RandomSearch Logistic Regression"
      ],
      "execution_count": 50,
      "outputs": []
    },
    {
      "cell_type": "code",
      "metadata": {
        "colab": {
          "base_uri": "https://localhost:8080/"
        },
        "id": "JR6qtuUy_hn8",
        "outputId": "f791d0d1-c0a8-4396-86c5-57becc3ca92e"
      },
      "source": [
        "randomsearch1 = RandomizedSearchCV(LogisticRegression(), param_lr, scoring='accuracy')\n",
        "randomsearch1"
      ],
      "execution_count": 51,
      "outputs": [
        {
          "output_type": "execute_result",
          "data": {
            "text/plain": [
              "RandomizedSearchCV(cv='warn', error_score='raise-deprecating',\n",
              "                   estimator=LogisticRegression(C=1.0, class_weight=None,\n",
              "                                                dual=False, fit_intercept=True,\n",
              "                                                intercept_scaling=1,\n",
              "                                                l1_ratio=None, max_iter=100,\n",
              "                                                multi_class='warn', n_jobs=None,\n",
              "                                                penalty='l2', random_state=None,\n",
              "                                                solver='warn', tol=0.0001,\n",
              "                                                verbose=0, warm_start=False),\n",
              "                   iid='warn', n_iter=10, n_jobs=None,\n",
              "                   param_distributions=[{'C': array([1.00000000e-03, 3.16227766e-02, 1.00000000e+00, 3.16227766e+01,\n",
              "       1.00000000e+03]),\n",
              "                                         'fit_intercept': ['True', 'False'],\n",
              "                                         'penalty': ['l1', 'l2']}],\n",
              "                   pre_dispatch='2*n_jobs', random_state=None, refit=True,\n",
              "                   return_train_score=False, scoring='accuracy', verbose=0)"
            ]
          },
          "metadata": {},
          "execution_count": 51
        }
      ]
    },
    {
      "cell_type": "code",
      "metadata": {
        "id": "OhfTyx2I_hn8"
      },
      "source": [
        "#RandomSearch Gaussian Naive Bayes"
      ],
      "execution_count": 52,
      "outputs": []
    },
    {
      "cell_type": "code",
      "metadata": {
        "colab": {
          "base_uri": "https://localhost:8080/"
        },
        "id": "D-NX4nGv_hn8",
        "outputId": "42ed55cd-006e-4a1d-bd00-c1a0d11f9186"
      },
      "source": [
        "randomsearch2 = RandomizedSearchCV(GaussianNB(), param_gnb, scoring='accuracy')\n",
        "randomsearch2"
      ],
      "execution_count": 53,
      "outputs": [
        {
          "output_type": "execute_result",
          "data": {
            "text/plain": [
              "RandomizedSearchCV(cv='warn', error_score='raise-deprecating',\n",
              "                   estimator=GaussianNB(priors=None, var_smoothing=1e-09),\n",
              "                   iid='warn', n_iter=10, n_jobs=None,\n",
              "                   param_distributions=[{'var_smoothing': [1e-09]}],\n",
              "                   pre_dispatch='2*n_jobs', random_state=None, refit=True,\n",
              "                   return_train_score=False, scoring='accuracy', verbose=0)"
            ]
          },
          "metadata": {},
          "execution_count": 53
        }
      ]
    },
    {
      "cell_type": "code",
      "metadata": {
        "id": "TXqvvxsn_hn9"
      },
      "source": [
        "#GridSearch Gradient Boosting"
      ],
      "execution_count": 54,
      "outputs": []
    },
    {
      "cell_type": "code",
      "metadata": {
        "colab": {
          "base_uri": "https://localhost:8080/"
        },
        "id": "McjhKj0O_hn9",
        "outputId": "5ae54d75-96b1-46e4-ee05-4d1ade935fae"
      },
      "source": [
        "gridsearch3 = GridSearchCV(GradientBoostingClassifier(), param_gb, scoring='accuracy')\n",
        "gridsearch3"
      ],
      "execution_count": 55,
      "outputs": [
        {
          "output_type": "execute_result",
          "data": {
            "text/plain": [
              "GridSearchCV(cv='warn', error_score='raise-deprecating',\n",
              "             estimator=GradientBoostingClassifier(criterion='friedman_mse',\n",
              "                                                  init=None, learning_rate=0.1,\n",
              "                                                  loss='deviance', max_depth=3,\n",
              "                                                  max_features=None,\n",
              "                                                  max_leaf_nodes=None,\n",
              "                                                  min_impurity_decrease=0.0,\n",
              "                                                  min_impurity_split=None,\n",
              "                                                  min_samples_leaf=1,\n",
              "                                                  min_samples_split=2,\n",
              "                                                  min_weight_fraction_leaf=0.0,\n",
              "                                                  n_estimators=100,\n",
              "                                                  n_iter_no_change=None,\n",
              "                                                  presort='auto',\n",
              "                                                  random_state=None,\n",
              "                                                  subsample=1.0, tol=0.0001,\n",
              "                                                  validation_fraction=0.1,\n",
              "                                                  verbose=0, warm_start=False),\n",
              "             iid='warn', n_jobs=None,\n",
              "             param_grid=[{'learning_rate': [0.001, 0.01, 0.1, 0.3],\n",
              "                          'n_estimators': [10, 100, 1000]}],\n",
              "             pre_dispatch='2*n_jobs', refit=True, return_train_score=False,\n",
              "             scoring='accuracy', verbose=0)"
            ]
          },
          "metadata": {},
          "execution_count": 55
        }
      ]
    },
    {
      "cell_type": "code",
      "metadata": {
        "id": "D2SE26iH_hn9"
      },
      "source": [
        "#GridSearch K-Nearest Neightbors"
      ],
      "execution_count": 56,
      "outputs": []
    },
    {
      "cell_type": "code",
      "metadata": {
        "colab": {
          "base_uri": "https://localhost:8080/"
        },
        "id": "iO5VnMcw_hn9",
        "outputId": "561e66a6-e550-49c5-c6bf-f0c87aee5187"
      },
      "source": [
        "gridsearch4 = GridSearchCV(KNeighborsClassifier(), param_knn, scoring='accuracy')\n",
        "gridsearch4"
      ],
      "execution_count": 57,
      "outputs": [
        {
          "output_type": "execute_result",
          "data": {
            "text/plain": [
              "GridSearchCV(cv='warn', error_score='raise-deprecating',\n",
              "             estimator=KNeighborsClassifier(algorithm='auto', leaf_size=30,\n",
              "                                            metric='minkowski',\n",
              "                                            metric_params=None, n_jobs=None,\n",
              "                                            n_neighbors=5, p=2,\n",
              "                                            weights='uniform'),\n",
              "             iid='warn', n_jobs=None,\n",
              "             param_grid=[{'algorithm': ['auto', 'ball_tree', 'kd_tree',\n",
              "                                        'brute'],\n",
              "                          'n_neighbors': [5],\n",
              "                          'weights': ['uniform', 'distance']}],\n",
              "             pre_dispatch='2*n_jobs', refit=True, return_train_score=False,\n",
              "             scoring='accuracy', verbose=0)"
            ]
          },
          "metadata": {},
          "execution_count": 57
        }
      ]
    },
    {
      "cell_type": "code",
      "metadata": {
        "id": "J3pI-5wi_hn9"
      },
      "source": [
        "# GridSearch Multinomial Naive Bayes"
      ],
      "execution_count": 58,
      "outputs": []
    },
    {
      "cell_type": "code",
      "metadata": {
        "colab": {
          "base_uri": "https://localhost:8080/"
        },
        "id": "iEj2AqNV_hn9",
        "outputId": "c20db200-9eac-46e5-9b33-9b04d4b86866"
      },
      "source": [
        "gridsearch5 = GridSearchCV(MultinomialNB(), param_mnb, scoring='accuracy')\n",
        "gridsearch5"
      ],
      "execution_count": 59,
      "outputs": [
        {
          "output_type": "execute_result",
          "data": {
            "text/plain": [
              "GridSearchCV(cv='warn', error_score='raise-deprecating',\n",
              "             estimator=MultinomialNB(alpha=1.0, class_prior=None,\n",
              "                                     fit_prior=True),\n",
              "             iid='warn', n_jobs=None,\n",
              "             param_grid=[{'alpha': [1.0, 0.01, 0.001],\n",
              "                          'fit_prior': ['True', 'False']}],\n",
              "             pre_dispatch='2*n_jobs', refit=True, return_train_score=False,\n",
              "             scoring='accuracy', verbose=0)"
            ]
          },
          "metadata": {},
          "execution_count": 59
        }
      ]
    },
    {
      "cell_type": "code",
      "metadata": {
        "id": "v5ScJiqw_hn9"
      },
      "source": [
        "# GridSearch Stochastic Gradient Descent"
      ],
      "execution_count": 60,
      "outputs": []
    },
    {
      "cell_type": "code",
      "metadata": {
        "colab": {
          "base_uri": "https://localhost:8080/"
        },
        "id": "uFa-lL6O_hn-",
        "outputId": "d339ecbe-b21d-4285-dae5-93771447908e"
      },
      "source": [
        "gridsearch6 = GridSearchCV(SGDClassifier(), param_sgd, scoring='accuracy')\n",
        "gridsearch6"
      ],
      "execution_count": 61,
      "outputs": [
        {
          "output_type": "execute_result",
          "data": {
            "text/plain": [
              "GridSearchCV(cv='warn', error_score='raise-deprecating',\n",
              "             estimator=SGDClassifier(alpha=0.0001, average=False,\n",
              "                                     class_weight=None, early_stopping=False,\n",
              "                                     epsilon=0.1, eta0=0.0, fit_intercept=True,\n",
              "                                     l1_ratio=0.15, learning_rate='optimal',\n",
              "                                     loss='hinge', max_iter=1000,\n",
              "                                     n_iter_no_change=5, n_jobs=None,\n",
              "                                     penalty='l2', power_t=0.5,\n",
              "                                     random_state=None, shuffle=True, tol=0.001,\n",
              "                                     validation_fraction=0.1, verbose=0,\n",
              "                                     warm_start=False),\n",
              "             iid='warn', n_jobs=None,\n",
              "             param_grid=[{'loss': ['hinge', 'log', 'modified_huber',\n",
              "                                   'squared_hinge', 'perceptron', 'huber',\n",
              "                                   'epsilon_insensitive',\n",
              "                                   'squared_epsilon_insensitive'],\n",
              "                          'penalty': ['l2', 'l1', 'elasticnet']}],\n",
              "             pre_dispatch='2*n_jobs', refit=True, return_train_score=False,\n",
              "             scoring='accuracy', verbose=0)"
            ]
          },
          "metadata": {},
          "execution_count": 61
        }
      ]
    },
    {
      "cell_type": "code",
      "metadata": {
        "id": "81SUEW6i_hn-"
      },
      "source": [
        "# GridSearch XGB"
      ],
      "execution_count": 62,
      "outputs": []
    },
    {
      "cell_type": "code",
      "metadata": {
        "colab": {
          "base_uri": "https://localhost:8080/"
        },
        "id": "5ARfVld-_hn-",
        "outputId": "ca4aa296-46c4-41a3-8cb8-794b6b9bcdd2"
      },
      "source": [
        "gridsearch7 = GridSearchCV(XGBClassifier(), param_xgb, scoring='accuracy')\n",
        "gridsearch7"
      ],
      "execution_count": 63,
      "outputs": [
        {
          "output_type": "execute_result",
          "data": {
            "text/plain": [
              "GridSearchCV(cv='warn', error_score='raise-deprecating',\n",
              "             estimator=XGBClassifier(base_score=0.5, booster='gbtree',\n",
              "                                     colsample_bylevel=1, colsample_bynode=1,\n",
              "                                     colsample_bytree=1, gamma=0,\n",
              "                                     learning_rate=0.1, max_delta_step=0,\n",
              "                                     max_depth=3, min_child_weight=1,\n",
              "                                     missing=None, n_estimators=100, n_jobs=1,\n",
              "                                     nthread=None, objective='binary:logistic',\n",
              "                                     random_state=0, reg_alpha=0, reg_lambda=1,\n",
              "                                     scale_pos_weight=1, seed=None, silent=None,\n",
              "                                     subsample=1, verbosity=1),\n",
              "             iid='warn', n_jobs=None,\n",
              "             param_grid=[{'booster': ['gbtree', 'gblinear']}],\n",
              "             pre_dispatch='2*n_jobs', refit=True, return_train_score=False,\n",
              "             scoring='accuracy', verbose=0)"
            ]
          },
          "metadata": {},
          "execution_count": 63
        }
      ]
    }
  ]
}