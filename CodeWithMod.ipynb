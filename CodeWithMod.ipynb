{
  "nbformat": 4,
  "nbformat_minor": 0,
  "metadata": {
    "colab": {
      "name": "CodeWithMod.ipynb",
      "provenance": []
    },
    "kernelspec": {
      "name": "python3",
      "display_name": "Python 3"
    },
    "language_info": {
      "name": "python"
    }
  },
  "cells": [
    {
      "cell_type": "code",
      "metadata": {
        "colab": {
          "base_uri": "https://localhost:8080/"
        },
        "id": "gqdwUwC9xZuD",
        "outputId": "81f6f33d-b059-43ee-94dd-de6a7104855f"
      },
      "source": [
        "! pip install cardea\n",
        "! pip install 'urllib3!=1.25.0,!=1.25.1,<1.26,>=1.21.1'"
      ],
      "execution_count": 1,
      "outputs": [
        {
          "output_type": "stream",
          "name": "stdout",
          "text": [
            "Requirement already satisfied: cardea in /usr/local/lib/python3.7/dist-packages (0.1.2)\n",
            "Requirement already satisfied: baytune<0.5,>=0.4.0 in /usr/local/lib/python3.7/dist-packages (from cardea) (0.4.0)\n",
            "Requirement already satisfied: mlprimitives<0.4,>=0.3.0 in /usr/local/lib/python3.7/dist-packages (from cardea) (0.3.1)\n",
            "Requirement already satisfied: mlblocks<0.5,>=0.4.0 in /usr/local/lib/python3.7/dist-packages (from cardea) (0.4.1)\n",
            "Requirement already satisfied: scikit-learn<0.22,>=0.21 in /usr/local/lib/python3.7/dist-packages (from cardea) (0.21.3)\n",
            "Requirement already satisfied: pyCLI==2.0.3 in /usr/local/lib/python3.7/dist-packages (from cardea) (2.0.3)\n",
            "Requirement already satisfied: featuretools<0.25,>=0.20.0 in /usr/local/lib/python3.7/dist-packages (from cardea) (0.22.0)\n",
            "Requirement already satisfied: scipy<2,>=1.2 in /usr/local/lib/python3.7/dist-packages (from baytune<0.5,>=0.4.0->cardea) (1.4.1)\n",
            "Requirement already satisfied: tqdm<5,>=4.36.1 in /usr/local/lib/python3.7/dist-packages (from baytune<0.5,>=0.4.0->cardea) (4.62.3)\n",
            "Requirement already satisfied: numpy>=1.14.0 in /usr/local/lib/python3.7/dist-packages (from baytune<0.5,>=0.4.0->cardea) (1.19.5)\n",
            "Requirement already satisfied: copulas<0.4,>=0.3.2 in /usr/local/lib/python3.7/dist-packages (from baytune<0.5,>=0.4.0->cardea) (0.3.3)\n",
            "Requirement already satisfied: pandas<2,>=1 in /usr/local/lib/python3.7/dist-packages (from baytune<0.5,>=0.4.0->cardea) (1.3.4)\n",
            "Requirement already satisfied: matplotlib<3.2.2,>=2.2.2 in /usr/local/lib/python3.7/dist-packages (from copulas<0.4,>=0.3.2->baytune<0.5,>=0.4.0->cardea) (3.2.1)\n",
            "Requirement already satisfied: cloudpickle>=0.4.0 in /usr/local/lib/python3.7/dist-packages (from featuretools<0.25,>=0.20.0->cardea) (2.0.0)\n",
            "Requirement already satisfied: psutil>=5.4.8 in /usr/local/lib/python3.7/dist-packages (from featuretools<0.25,>=0.20.0->cardea) (5.8.0)\n",
            "Requirement already satisfied: distributed>=2.12.0 in /usr/local/lib/python3.7/dist-packages (from featuretools<0.25,>=0.20.0->cardea) (2.30.1)\n",
            "Requirement already satisfied: dask[dataframe]>=2.12.0 in /usr/local/lib/python3.7/dist-packages (from featuretools<0.25,>=0.20.0->cardea) (2.12.0)\n",
            "Requirement already satisfied: pyyaml>=3.12 in /usr/local/lib/python3.7/dist-packages (from featuretools<0.25,>=0.20.0->cardea) (6.0)\n",
            "Requirement already satisfied: click>=7.0.0 in /usr/local/lib/python3.7/dist-packages (from featuretools<0.25,>=0.20.0->cardea) (7.1.2)\n",
            "Requirement already satisfied: partd>=0.3.10 in /usr/local/lib/python3.7/dist-packages (from dask[dataframe]>=2.12.0->featuretools<0.25,>=0.20.0->cardea) (1.2.0)\n",
            "Requirement already satisfied: toolz>=0.7.3 in /usr/local/lib/python3.7/dist-packages (from dask[dataframe]>=2.12.0->featuretools<0.25,>=0.20.0->cardea) (0.11.1)\n",
            "Requirement already satisfied: fsspec>=0.6.0 in /usr/local/lib/python3.7/dist-packages (from dask[dataframe]>=2.12.0->featuretools<0.25,>=0.20.0->cardea) (2021.10.1)\n",
            "Requirement already satisfied: zict>=0.1.3 in /usr/local/lib/python3.7/dist-packages (from distributed>=2.12.0->featuretools<0.25,>=0.20.0->cardea) (2.0.0)\n",
            "Requirement already satisfied: msgpack>=0.6.0 in /usr/local/lib/python3.7/dist-packages (from distributed>=2.12.0->featuretools<0.25,>=0.20.0->cardea) (1.0.2)\n",
            "Requirement already satisfied: sortedcontainers!=2.0.0,!=2.0.1 in /usr/local/lib/python3.7/dist-packages (from distributed>=2.12.0->featuretools<0.25,>=0.20.0->cardea) (2.4.0)\n",
            "Requirement already satisfied: tblib>=1.6.0 in /usr/local/lib/python3.7/dist-packages (from distributed>=2.12.0->featuretools<0.25,>=0.20.0->cardea) (1.7.0)\n",
            "Requirement already satisfied: setuptools in /usr/local/lib/python3.7/dist-packages (from distributed>=2.12.0->featuretools<0.25,>=0.20.0->cardea) (57.4.0)\n",
            "Requirement already satisfied: tornado>=5 in /usr/local/lib/python3.7/dist-packages (from distributed>=2.12.0->featuretools<0.25,>=0.20.0->cardea) (5.1.1)\n",
            "Requirement already satisfied: python-dateutil>=2.1 in /usr/local/lib/python3.7/dist-packages (from matplotlib<3.2.2,>=2.2.2->copulas<0.4,>=0.3.2->baytune<0.5,>=0.4.0->cardea) (2.8.2)\n",
            "Requirement already satisfied: kiwisolver>=1.0.1 in /usr/local/lib/python3.7/dist-packages (from matplotlib<3.2.2,>=2.2.2->copulas<0.4,>=0.3.2->baytune<0.5,>=0.4.0->cardea) (1.3.2)\n",
            "Requirement already satisfied: cycler>=0.10 in /usr/local/lib/python3.7/dist-packages (from matplotlib<3.2.2,>=2.2.2->copulas<0.4,>=0.3.2->baytune<0.5,>=0.4.0->cardea) (0.10.0)\n",
            "Requirement already satisfied: pyparsing!=2.0.4,!=2.1.2,!=2.1.6,>=2.0.1 in /usr/local/lib/python3.7/dist-packages (from matplotlib<3.2.2,>=2.2.2->copulas<0.4,>=0.3.2->baytune<0.5,>=0.4.0->cardea) (2.4.7)\n",
            "Requirement already satisfied: six in /usr/local/lib/python3.7/dist-packages (from cycler>=0.10->matplotlib<3.2.2,>=2.2.2->copulas<0.4,>=0.3.2->baytune<0.5,>=0.4.0->cardea) (1.15.0)\n",
            "Requirement already satisfied: graphviz<1,>=0.9 in /usr/local/lib/python3.7/dist-packages (from mlblocks<0.5,>=0.4.0->cardea) (0.10.1)\n",
            "Requirement already satisfied: networkx<3,>=2.0 in /usr/local/lib/python3.7/dist-packages (from mlprimitives<0.4,>=0.3.0->cardea) (2.6.3)\n",
            "Requirement already satisfied: lightfm<2,>=1.15 in /usr/local/lib/python3.7/dist-packages (from mlprimitives<0.4,>=0.3.0->cardea) (1.16)\n",
            "Requirement already satisfied: nltk<4,>=3.3 in /usr/local/lib/python3.7/dist-packages (from mlprimitives<0.4,>=0.3.0->cardea) (3.6.5)\n",
            "Requirement already satisfied: statsmodels<0.13,>=0.9.0 in /usr/local/lib/python3.7/dist-packages (from mlprimitives<0.4,>=0.3.0->cardea) (0.10.2)\n",
            "Requirement already satisfied: tensorflow<2.5,>=2 in /usr/local/lib/python3.7/dist-packages (from mlprimitives<0.4,>=0.3.0->cardea) (2.4.3)\n",
            "Requirement already satisfied: xgboost<1,>=0.72.1 in /usr/local/lib/python3.7/dist-packages (from mlprimitives<0.4,>=0.3.0->cardea) (0.90)\n",
            "Requirement already satisfied: langdetect<2,>=1.0.7 in /usr/local/lib/python3.7/dist-packages (from mlprimitives<0.4,>=0.3.0->cardea) (1.0.9)\n",
            "Requirement already satisfied: python-louvain<0.14,>=0.10 in /usr/local/lib/python3.7/dist-packages (from mlprimitives<0.4,>=0.3.0->cardea) (0.13)\n",
            "Requirement already satisfied: scikit-image>=0.15 in /usr/local/lib/python3.7/dist-packages (from mlprimitives<0.4,>=0.3.0->cardea) (0.16.2)\n",
            "Requirement already satisfied: iso639<0.2,>=0.1.4 in /usr/local/lib/python3.7/dist-packages (from mlprimitives<0.4,>=0.3.0->cardea) (0.1.4)\n",
            "Requirement already satisfied: opencv-python<5,>=3.4.0.12 in /usr/local/lib/python3.7/dist-packages (from mlprimitives<0.4,>=0.3.0->cardea) (4.1.2.30)\n",
            "Requirement already satisfied: Keras<2.5,>=2.4 in /usr/local/lib/python3.7/dist-packages (from mlprimitives<0.4,>=0.3.0->cardea) (2.4.3)\n",
            "Requirement already satisfied: h5py in /usr/local/lib/python3.7/dist-packages (from Keras<2.5,>=2.4->mlprimitives<0.4,>=0.3.0->cardea) (2.10.0)\n",
            "Requirement already satisfied: requests in /usr/local/lib/python3.7/dist-packages (from lightfm<2,>=1.15->mlprimitives<0.4,>=0.3.0->cardea) (2.23.0)\n",
            "Requirement already satisfied: regex>=2021.8.3 in /usr/local/lib/python3.7/dist-packages (from nltk<4,>=3.3->mlprimitives<0.4,>=0.3.0->cardea) (2021.10.23)\n",
            "Requirement already satisfied: joblib in /usr/local/lib/python3.7/dist-packages (from nltk<4,>=3.3->mlprimitives<0.4,>=0.3.0->cardea) (1.0.1)\n",
            "Requirement already satisfied: pytz>=2017.3 in /usr/local/lib/python3.7/dist-packages (from pandas<2,>=1->baytune<0.5,>=0.4.0->cardea) (2018.9)\n",
            "Requirement already satisfied: locket in /usr/local/lib/python3.7/dist-packages (from partd>=0.3.10->dask[dataframe]>=2.12.0->featuretools<0.25,>=0.20.0->cardea) (0.2.1)\n",
            "Requirement already satisfied: imageio>=2.3.0 in /usr/local/lib/python3.7/dist-packages (from scikit-image>=0.15->mlprimitives<0.4,>=0.3.0->cardea) (2.4.1)\n",
            "Requirement already satisfied: pillow>=4.3.0 in /usr/local/lib/python3.7/dist-packages (from scikit-image>=0.15->mlprimitives<0.4,>=0.3.0->cardea) (7.1.2)\n",
            "Requirement already satisfied: PyWavelets>=0.4.0 in /usr/local/lib/python3.7/dist-packages (from scikit-image>=0.15->mlprimitives<0.4,>=0.3.0->cardea) (1.1.1)\n",
            "Requirement already satisfied: patsy>=0.4.0 in /usr/local/lib/python3.7/dist-packages (from statsmodels<0.13,>=0.9.0->mlprimitives<0.4,>=0.3.0->cardea) (0.5.2)\n",
            "Requirement already satisfied: flatbuffers~=1.12.0 in /usr/local/lib/python3.7/dist-packages (from tensorflow<2.5,>=2->mlprimitives<0.4,>=0.3.0->cardea) (1.12)\n",
            "Requirement already satisfied: absl-py~=0.10 in /usr/local/lib/python3.7/dist-packages (from tensorflow<2.5,>=2->mlprimitives<0.4,>=0.3.0->cardea) (0.12.0)\n",
            "Requirement already satisfied: google-pasta~=0.2 in /usr/local/lib/python3.7/dist-packages (from tensorflow<2.5,>=2->mlprimitives<0.4,>=0.3.0->cardea) (0.2.0)\n",
            "Requirement already satisfied: tensorboard~=2.4 in /usr/local/lib/python3.7/dist-packages (from tensorflow<2.5,>=2->mlprimitives<0.4,>=0.3.0->cardea) (2.6.0)\n",
            "Requirement already satisfied: astunparse~=1.6.3 in /usr/local/lib/python3.7/dist-packages (from tensorflow<2.5,>=2->mlprimitives<0.4,>=0.3.0->cardea) (1.6.3)\n",
            "Requirement already satisfied: termcolor~=1.1.0 in /usr/local/lib/python3.7/dist-packages (from tensorflow<2.5,>=2->mlprimitives<0.4,>=0.3.0->cardea) (1.1.0)\n",
            "Requirement already satisfied: keras-preprocessing~=1.1.2 in /usr/local/lib/python3.7/dist-packages (from tensorflow<2.5,>=2->mlprimitives<0.4,>=0.3.0->cardea) (1.1.2)\n",
            "Requirement already satisfied: wheel~=0.35 in /usr/local/lib/python3.7/dist-packages (from tensorflow<2.5,>=2->mlprimitives<0.4,>=0.3.0->cardea) (0.37.0)\n",
            "Requirement already satisfied: wrapt~=1.12.1 in /usr/local/lib/python3.7/dist-packages (from tensorflow<2.5,>=2->mlprimitives<0.4,>=0.3.0->cardea) (1.12.1)\n",
            "Requirement already satisfied: gast==0.3.3 in /usr/local/lib/python3.7/dist-packages (from tensorflow<2.5,>=2->mlprimitives<0.4,>=0.3.0->cardea) (0.3.3)\n",
            "Requirement already satisfied: protobuf>=3.9.2 in /usr/local/lib/python3.7/dist-packages (from tensorflow<2.5,>=2->mlprimitives<0.4,>=0.3.0->cardea) (3.17.3)\n",
            "Requirement already satisfied: grpcio~=1.32.0 in /usr/local/lib/python3.7/dist-packages (from tensorflow<2.5,>=2->mlprimitives<0.4,>=0.3.0->cardea) (1.32.0)\n",
            "Requirement already satisfied: tensorflow-estimator<2.5.0,>=2.4.0 in /usr/local/lib/python3.7/dist-packages (from tensorflow<2.5,>=2->mlprimitives<0.4,>=0.3.0->cardea) (2.4.0)\n",
            "Requirement already satisfied: opt-einsum~=3.3.0 in /usr/local/lib/python3.7/dist-packages (from tensorflow<2.5,>=2->mlprimitives<0.4,>=0.3.0->cardea) (3.3.0)\n",
            "Requirement already satisfied: typing-extensions~=3.7.4 in /usr/local/lib/python3.7/dist-packages (from tensorflow<2.5,>=2->mlprimitives<0.4,>=0.3.0->cardea) (3.7.4.3)\n",
            "Requirement already satisfied: tensorboard-plugin-wit>=1.6.0 in /usr/local/lib/python3.7/dist-packages (from tensorboard~=2.4->tensorflow<2.5,>=2->mlprimitives<0.4,>=0.3.0->cardea) (1.8.0)\n",
            "Requirement already satisfied: google-auth<2,>=1.6.3 in /usr/local/lib/python3.7/dist-packages (from tensorboard~=2.4->tensorflow<2.5,>=2->mlprimitives<0.4,>=0.3.0->cardea) (1.35.0)\n",
            "Requirement already satisfied: google-auth-oauthlib<0.5,>=0.4.1 in /usr/local/lib/python3.7/dist-packages (from tensorboard~=2.4->tensorflow<2.5,>=2->mlprimitives<0.4,>=0.3.0->cardea) (0.4.6)\n",
            "Requirement already satisfied: tensorboard-data-server<0.7.0,>=0.6.0 in /usr/local/lib/python3.7/dist-packages (from tensorboard~=2.4->tensorflow<2.5,>=2->mlprimitives<0.4,>=0.3.0->cardea) (0.6.1)\n",
            "Requirement already satisfied: markdown>=2.6.8 in /usr/local/lib/python3.7/dist-packages (from tensorboard~=2.4->tensorflow<2.5,>=2->mlprimitives<0.4,>=0.3.0->cardea) (3.3.4)\n",
            "Requirement already satisfied: werkzeug>=0.11.15 in /usr/local/lib/python3.7/dist-packages (from tensorboard~=2.4->tensorflow<2.5,>=2->mlprimitives<0.4,>=0.3.0->cardea) (1.0.1)\n",
            "Requirement already satisfied: pyasn1-modules>=0.2.1 in /usr/local/lib/python3.7/dist-packages (from google-auth<2,>=1.6.3->tensorboard~=2.4->tensorflow<2.5,>=2->mlprimitives<0.4,>=0.3.0->cardea) (0.2.8)\n",
            "Requirement already satisfied: cachetools<5.0,>=2.0.0 in /usr/local/lib/python3.7/dist-packages (from google-auth<2,>=1.6.3->tensorboard~=2.4->tensorflow<2.5,>=2->mlprimitives<0.4,>=0.3.0->cardea) (4.2.4)\n",
            "Requirement already satisfied: rsa<5,>=3.1.4 in /usr/local/lib/python3.7/dist-packages (from google-auth<2,>=1.6.3->tensorboard~=2.4->tensorflow<2.5,>=2->mlprimitives<0.4,>=0.3.0->cardea) (4.7.2)\n",
            "Requirement already satisfied: requests-oauthlib>=0.7.0 in /usr/local/lib/python3.7/dist-packages (from google-auth-oauthlib<0.5,>=0.4.1->tensorboard~=2.4->tensorflow<2.5,>=2->mlprimitives<0.4,>=0.3.0->cardea) (1.3.0)\n",
            "Requirement already satisfied: importlib-metadata in /usr/local/lib/python3.7/dist-packages (from markdown>=2.6.8->tensorboard~=2.4->tensorflow<2.5,>=2->mlprimitives<0.4,>=0.3.0->cardea) (4.8.1)\n",
            "Requirement already satisfied: pyasn1<0.5.0,>=0.4.6 in /usr/local/lib/python3.7/dist-packages (from pyasn1-modules>=0.2.1->google-auth<2,>=1.6.3->tensorboard~=2.4->tensorflow<2.5,>=2->mlprimitives<0.4,>=0.3.0->cardea) (0.4.8)\n",
            "Requirement already satisfied: chardet<4,>=3.0.2 in /usr/local/lib/python3.7/dist-packages (from requests->lightfm<2,>=1.15->mlprimitives<0.4,>=0.3.0->cardea) (3.0.4)\n",
            "Requirement already satisfied: urllib3!=1.25.0,!=1.25.1,<1.26,>=1.21.1 in /usr/local/lib/python3.7/dist-packages (from requests->lightfm<2,>=1.15->mlprimitives<0.4,>=0.3.0->cardea) (1.24.3)\n",
            "Requirement already satisfied: idna<3,>=2.5 in /usr/local/lib/python3.7/dist-packages (from requests->lightfm<2,>=1.15->mlprimitives<0.4,>=0.3.0->cardea) (2.10)\n",
            "Requirement already satisfied: certifi>=2017.4.17 in /usr/local/lib/python3.7/dist-packages (from requests->lightfm<2,>=1.15->mlprimitives<0.4,>=0.3.0->cardea) (2021.5.30)\n",
            "Requirement already satisfied: oauthlib>=3.0.0 in /usr/local/lib/python3.7/dist-packages (from requests-oauthlib>=0.7.0->google-auth-oauthlib<0.5,>=0.4.1->tensorboard~=2.4->tensorflow<2.5,>=2->mlprimitives<0.4,>=0.3.0->cardea) (3.1.1)\n",
            "Requirement already satisfied: heapdict in /usr/local/lib/python3.7/dist-packages (from zict>=0.1.3->distributed>=2.12.0->featuretools<0.25,>=0.20.0->cardea) (1.0.1)\n",
            "Requirement already satisfied: zipp>=0.5 in /usr/local/lib/python3.7/dist-packages (from importlib-metadata->markdown>=2.6.8->tensorboard~=2.4->tensorflow<2.5,>=2->mlprimitives<0.4,>=0.3.0->cardea) (3.6.0)\n",
            "Requirement already satisfied: urllib3!=1.25.0,!=1.25.1,<1.26,>=1.21.1 in /usr/local/lib/python3.7/dist-packages (1.24.3)\n"
          ]
        }
      ]
    },
    {
      "cell_type": "code",
      "metadata": {
        "id": "vPez2658xczY"
      },
      "source": [
        "# imports \n",
        "import pandas as pd\n",
        "import matplotlib.pyplot as plt\n",
        "from sklearn.metrics import accuracy_score\n",
        "\n",
        "from cardea import Cardea"
      ],
      "execution_count": 2,
      "outputs": []
    },
    {
      "cell_type": "code",
      "metadata": {
        "id": "M6mFmEsMxfl9"
      },
      "source": [
        "# optional\n",
        "import warnings\n",
        "warnings.filterwarnings(\"ignore\")"
      ],
      "execution_count": 3,
      "outputs": []
    },
    {
      "cell_type": "code",
      "metadata": {
        "id": "hnOCZJLYxg4C"
      },
      "source": [
        "cd = Cardea()"
      ],
      "execution_count": 4,
      "outputs": []
    },
    {
      "cell_type": "code",
      "metadata": {
        "colab": {
          "base_uri": "https://localhost:8080/"
        },
        "id": "AXfYP8mGxiTx",
        "outputId": "a0991dde-5ca9-4d63-d9d2-39687453445a"
      },
      "source": [
        "! curl -O https://dai-cardea.s3.amazonaws.com/kaggle.zip && unzip kaggle.zip"
      ],
      "execution_count": 5,
      "outputs": [
        {
          "output_type": "stream",
          "name": "stdout",
          "text": [
            "  % Total    % Received % Xferd  Average Speed   Time    Time     Time  Current\n",
            "                                 Dload  Upload   Total   Spent    Left  Speed\n",
            "100 2988k  100 2988k    0     0  15.0M      0 --:--:-- --:--:-- --:--:-- 15.0M\n",
            "Archive:  kaggle.zip\n",
            "  inflating: Patient.csv             \n",
            "  inflating: Coding.csv              \n",
            "  inflating: Appointment_Participant.csv  \n",
            "  inflating: Address.csv             \n",
            " extracting: CodeableConcept.csv     \n",
            "  inflating: Reference.csv           \n",
            "  inflating: Observation.csv         \n",
            "  inflating: Identifier.csv          \n",
            "  inflating: Appointment.csv         \n"
          ]
        }
      ]
    },
    {
      "cell_type": "code",
      "metadata": {
        "colab": {
          "base_uri": "https://localhost:8080/"
        },
        "id": "fTX-D4rFxiZZ",
        "outputId": "63771aef-c298-4a63-c28c-94a20db42bbb"
      },
      "source": [
        "cd.load_entityset(data='kaggle')\n",
        "\n",
        "# to view the loaded entityset\n",
        "cd.es"
      ],
      "execution_count": 6,
      "outputs": [
        {
          "output_type": "execute_result",
          "data": {
            "text/plain": [
              "Entityset: fhir\n",
              "  Entities:\n",
              "    Reference [Rows: 6100, Columns: 1]\n",
              "    Address [Rows: 81, Columns: 2]\n",
              "    CodeableConcept [Rows: 4, Columns: 2]\n",
              "    Appointment [Rows: 110527, Columns: 5]\n",
              "    Coding [Rows: 3, Columns: 2]\n",
              "    Observation [Rows: 110527, Columns: 3]\n",
              "    Patient [Rows: 6100, Columns: 4]\n",
              "    Identifier [Rows: 227151, Columns: 1]\n",
              "    Appointment_Participant [Rows: 6100, Columns: 2]\n",
              "  Relationships:\n",
              "    CodeableConcept.coding -> Coding.object_id\n",
              "    Appointment.participant -> Appointment_Participant.object_id\n",
              "    Observation.code -> CodeableConcept.object_id\n",
              "    Observation.subject -> Reference.identifier\n",
              "    Patient.address -> Address.object_id\n",
              "    Appointment_Participant.actor -> Reference.identifier"
            ]
          },
          "metadata": {},
          "execution_count": 6
        }
      ]
    },
    {
      "cell_type": "code",
      "metadata": {
        "colab": {
          "base_uri": "https://localhost:8080/"
        },
        "id": "P5AaoH8Cxkgi",
        "outputId": "adb0a8cd-5588-4e4a-88a1-278fc49abf26"
      },
      "source": [
        "cd.list_problems()"
      ],
      "execution_count": 7,
      "outputs": [
        {
          "output_type": "execute_result",
          "data": {
            "text/plain": [
              "{'DiagnosisPrediction',\n",
              " 'LengthOfStay',\n",
              " 'MissedAppointment',\n",
              " 'MortalityPrediction',\n",
              " 'ProlongedLengthOfStay',\n",
              " 'Readmission'}"
            ]
          },
          "metadata": {},
          "execution_count": 7
        }
      ]
    },
    {
      "cell_type": "code",
      "metadata": {
        "id": "G4zjq-rnxmTL"
      },
      "source": [
        "# select problem\n",
        "label_times = cd.select_problem('MissedAppointment')"
      ],
      "execution_count": 8,
      "outputs": []
    },
    {
      "cell_type": "code",
      "metadata": {
        "colab": {
          "base_uri": "https://localhost:8080/",
          "height": 292
        },
        "id": "ztHigIeZxn1W",
        "outputId": "25867d82-e8d7-411a-af44-8d19ecd5c372"
      },
      "source": [
        "# feature engineering\n",
        "feature_matrix = cd.generate_features(label_times[:1000]) # takes a while for the full dataset\n",
        "feature_matrix.head(5)"
      ],
      "execution_count": 9,
      "outputs": [
        {
          "output_type": "stream",
          "name": "stdout",
          "text": [
            "Built 13 features\n",
            "Elapsed: 00:32 | Progress: 100%|██████████\n"
          ]
        },
        {
          "output_type": "execute_result",
          "data": {
            "text/html": [
              "<div>\n",
              "<style scoped>\n",
              "    .dataframe tbody tr th:only-of-type {\n",
              "        vertical-align: middle;\n",
              "    }\n",
              "\n",
              "    .dataframe tbody tr th {\n",
              "        vertical-align: top;\n",
              "    }\n",
              "\n",
              "    .dataframe thead th {\n",
              "        text-align: right;\n",
              "    }\n",
              "</style>\n",
              "<table border=\"1\" class=\"dataframe\">\n",
              "  <thead>\n",
              "    <tr style=\"text-align: right;\">\n",
              "      <th></th>\n",
              "      <th>participant = 2680425062</th>\n",
              "      <th>participant = 4275143764</th>\n",
              "      <th>participant = 2615334244</th>\n",
              "      <th>participant = 2410824900</th>\n",
              "      <th>participant = 2406221984</th>\n",
              "      <th>participant = 1868414665</th>\n",
              "      <th>participant = 1692482157</th>\n",
              "      <th>participant = 1125465544</th>\n",
              "      <th>participant = 846537388</th>\n",
              "      <th>participant = 4121228070</th>\n",
              "      <th>participant is unknown</th>\n",
              "      <th>DAY(created) = 29</th>\n",
              "      <th>DAY(created) = 28</th>\n",
              "      <th>DAY(created) = 27</th>\n",
              "      <th>DAY(created) = 18</th>\n",
              "      <th>DAY(created) = 15</th>\n",
              "      <th>DAY(created) = 26</th>\n",
              "      <th>DAY(created) = 25</th>\n",
              "      <th>DAY(created) = 5</th>\n",
              "      <th>DAY(created) = 1</th>\n",
              "      <th>DAY(created) = 8</th>\n",
              "      <th>DAY(created) is unknown</th>\n",
              "      <th>DAY(start) = 29</th>\n",
              "      <th>DAY(start) is unknown</th>\n",
              "      <th>IS_WEEKEND(created)</th>\n",
              "      <th>IS_WEEKEND(start)</th>\n",
              "      <th>MONTH(created) = 4</th>\n",
              "      <th>MONTH(created) = 3</th>\n",
              "      <th>MONTH(created) = 2</th>\n",
              "      <th>MONTH(created) = 1</th>\n",
              "      <th>MONTH(created) is unknown</th>\n",
              "      <th>MONTH(start) = 4</th>\n",
              "      <th>MONTH(start) is unknown</th>\n",
              "      <th>WEEKDAY(created) = 4</th>\n",
              "      <th>WEEKDAY(created) = 2</th>\n",
              "      <th>WEEKDAY(created) = 1</th>\n",
              "      <th>WEEKDAY(created) = 3</th>\n",
              "      <th>WEEKDAY(created) = 0</th>\n",
              "      <th>WEEKDAY(created) is unknown</th>\n",
              "      <th>WEEKDAY(start) = 4</th>\n",
              "      <th>WEEKDAY(start) is unknown</th>\n",
              "      <th>YEAR(created) = 2016</th>\n",
              "      <th>YEAR(created) is unknown</th>\n",
              "      <th>YEAR(start) = 2016</th>\n",
              "      <th>YEAR(start) is unknown</th>\n",
              "      <th>Appointment_Participant.actor = 74200000000000</th>\n",
              "      <th>Appointment_Participant.actor = 713000000000000</th>\n",
              "      <th>Appointment_Participant.actor = 41400000000000</th>\n",
              "      <th>Appointment_Participant.actor = 28200000000000</th>\n",
              "      <th>Appointment_Participant.actor = 7270000000000</th>\n",
              "      <th>Appointment_Participant.actor = 7230000000000</th>\n",
              "      <th>Appointment_Participant.actor = 4920000000000</th>\n",
              "      <th>Appointment_Participant.actor = 3880000000000</th>\n",
              "      <th>Appointment_Participant.actor = 2760000000000</th>\n",
              "      <th>Appointment_Participant.actor = 735000000000000</th>\n",
              "      <th>Appointment_Participant.actor is unknown</th>\n",
              "      <th>Appointment_Participant.COUNT(Appointment)</th>\n",
              "      <th>label</th>\n",
              "    </tr>\n",
              "  </thead>\n",
              "  <tbody>\n",
              "    <tr>\n",
              "      <th>0</th>\n",
              "      <td>False</td>\n",
              "      <td>False</td>\n",
              "      <td>False</td>\n",
              "      <td>False</td>\n",
              "      <td>False</td>\n",
              "      <td>False</td>\n",
              "      <td>False</td>\n",
              "      <td>False</td>\n",
              "      <td>False</td>\n",
              "      <td>False</td>\n",
              "      <td>True</td>\n",
              "      <td>True</td>\n",
              "      <td>False</td>\n",
              "      <td>False</td>\n",
              "      <td>False</td>\n",
              "      <td>False</td>\n",
              "      <td>False</td>\n",
              "      <td>False</td>\n",
              "      <td>False</td>\n",
              "      <td>False</td>\n",
              "      <td>False</td>\n",
              "      <td>False</td>\n",
              "      <td>True</td>\n",
              "      <td>False</td>\n",
              "      <td>False</td>\n",
              "      <td>False</td>\n",
              "      <td>True</td>\n",
              "      <td>False</td>\n",
              "      <td>False</td>\n",
              "      <td>False</td>\n",
              "      <td>False</td>\n",
              "      <td>True</td>\n",
              "      <td>False</td>\n",
              "      <td>True</td>\n",
              "      <td>False</td>\n",
              "      <td>False</td>\n",
              "      <td>False</td>\n",
              "      <td>False</td>\n",
              "      <td>False</td>\n",
              "      <td>True</td>\n",
              "      <td>False</td>\n",
              "      <td>True</td>\n",
              "      <td>False</td>\n",
              "      <td>True</td>\n",
              "      <td>False</td>\n",
              "      <td>False</td>\n",
              "      <td>False</td>\n",
              "      <td>False</td>\n",
              "      <td>False</td>\n",
              "      <td>False</td>\n",
              "      <td>False</td>\n",
              "      <td>False</td>\n",
              "      <td>False</td>\n",
              "      <td>False</td>\n",
              "      <td>False</td>\n",
              "      <td>True</td>\n",
              "      <td>39</td>\n",
              "      <td>noshow</td>\n",
              "    </tr>\n",
              "    <tr>\n",
              "      <th>1</th>\n",
              "      <td>False</td>\n",
              "      <td>False</td>\n",
              "      <td>False</td>\n",
              "      <td>False</td>\n",
              "      <td>False</td>\n",
              "      <td>False</td>\n",
              "      <td>False</td>\n",
              "      <td>False</td>\n",
              "      <td>False</td>\n",
              "      <td>False</td>\n",
              "      <td>True</td>\n",
              "      <td>True</td>\n",
              "      <td>False</td>\n",
              "      <td>False</td>\n",
              "      <td>False</td>\n",
              "      <td>False</td>\n",
              "      <td>False</td>\n",
              "      <td>False</td>\n",
              "      <td>False</td>\n",
              "      <td>False</td>\n",
              "      <td>False</td>\n",
              "      <td>False</td>\n",
              "      <td>True</td>\n",
              "      <td>False</td>\n",
              "      <td>False</td>\n",
              "      <td>False</td>\n",
              "      <td>True</td>\n",
              "      <td>False</td>\n",
              "      <td>False</td>\n",
              "      <td>False</td>\n",
              "      <td>False</td>\n",
              "      <td>True</td>\n",
              "      <td>False</td>\n",
              "      <td>True</td>\n",
              "      <td>False</td>\n",
              "      <td>False</td>\n",
              "      <td>False</td>\n",
              "      <td>False</td>\n",
              "      <td>False</td>\n",
              "      <td>True</td>\n",
              "      <td>False</td>\n",
              "      <td>True</td>\n",
              "      <td>False</td>\n",
              "      <td>True</td>\n",
              "      <td>False</td>\n",
              "      <td>False</td>\n",
              "      <td>False</td>\n",
              "      <td>False</td>\n",
              "      <td>False</td>\n",
              "      <td>False</td>\n",
              "      <td>False</td>\n",
              "      <td>False</td>\n",
              "      <td>False</td>\n",
              "      <td>False</td>\n",
              "      <td>False</td>\n",
              "      <td>True</td>\n",
              "      <td>27</td>\n",
              "      <td>noshow</td>\n",
              "    </tr>\n",
              "    <tr>\n",
              "      <th>2</th>\n",
              "      <td>False</td>\n",
              "      <td>False</td>\n",
              "      <td>False</td>\n",
              "      <td>False</td>\n",
              "      <td>False</td>\n",
              "      <td>False</td>\n",
              "      <td>False</td>\n",
              "      <td>False</td>\n",
              "      <td>False</td>\n",
              "      <td>False</td>\n",
              "      <td>True</td>\n",
              "      <td>True</td>\n",
              "      <td>False</td>\n",
              "      <td>False</td>\n",
              "      <td>False</td>\n",
              "      <td>False</td>\n",
              "      <td>False</td>\n",
              "      <td>False</td>\n",
              "      <td>False</td>\n",
              "      <td>False</td>\n",
              "      <td>False</td>\n",
              "      <td>False</td>\n",
              "      <td>True</td>\n",
              "      <td>False</td>\n",
              "      <td>False</td>\n",
              "      <td>False</td>\n",
              "      <td>True</td>\n",
              "      <td>False</td>\n",
              "      <td>False</td>\n",
              "      <td>False</td>\n",
              "      <td>False</td>\n",
              "      <td>True</td>\n",
              "      <td>False</td>\n",
              "      <td>True</td>\n",
              "      <td>False</td>\n",
              "      <td>False</td>\n",
              "      <td>False</td>\n",
              "      <td>False</td>\n",
              "      <td>False</td>\n",
              "      <td>True</td>\n",
              "      <td>False</td>\n",
              "      <td>True</td>\n",
              "      <td>False</td>\n",
              "      <td>True</td>\n",
              "      <td>False</td>\n",
              "      <td>False</td>\n",
              "      <td>False</td>\n",
              "      <td>False</td>\n",
              "      <td>False</td>\n",
              "      <td>False</td>\n",
              "      <td>False</td>\n",
              "      <td>False</td>\n",
              "      <td>False</td>\n",
              "      <td>False</td>\n",
              "      <td>False</td>\n",
              "      <td>True</td>\n",
              "      <td>55</td>\n",
              "      <td>noshow</td>\n",
              "    </tr>\n",
              "    <tr>\n",
              "      <th>3</th>\n",
              "      <td>False</td>\n",
              "      <td>False</td>\n",
              "      <td>False</td>\n",
              "      <td>False</td>\n",
              "      <td>False</td>\n",
              "      <td>False</td>\n",
              "      <td>False</td>\n",
              "      <td>False</td>\n",
              "      <td>False</td>\n",
              "      <td>False</td>\n",
              "      <td>True</td>\n",
              "      <td>True</td>\n",
              "      <td>False</td>\n",
              "      <td>False</td>\n",
              "      <td>False</td>\n",
              "      <td>False</td>\n",
              "      <td>False</td>\n",
              "      <td>False</td>\n",
              "      <td>False</td>\n",
              "      <td>False</td>\n",
              "      <td>False</td>\n",
              "      <td>False</td>\n",
              "      <td>True</td>\n",
              "      <td>False</td>\n",
              "      <td>False</td>\n",
              "      <td>False</td>\n",
              "      <td>True</td>\n",
              "      <td>False</td>\n",
              "      <td>False</td>\n",
              "      <td>False</td>\n",
              "      <td>False</td>\n",
              "      <td>True</td>\n",
              "      <td>False</td>\n",
              "      <td>True</td>\n",
              "      <td>False</td>\n",
              "      <td>False</td>\n",
              "      <td>False</td>\n",
              "      <td>False</td>\n",
              "      <td>False</td>\n",
              "      <td>True</td>\n",
              "      <td>False</td>\n",
              "      <td>True</td>\n",
              "      <td>False</td>\n",
              "      <td>True</td>\n",
              "      <td>False</td>\n",
              "      <td>False</td>\n",
              "      <td>False</td>\n",
              "      <td>False</td>\n",
              "      <td>False</td>\n",
              "      <td>False</td>\n",
              "      <td>False</td>\n",
              "      <td>False</td>\n",
              "      <td>False</td>\n",
              "      <td>False</td>\n",
              "      <td>False</td>\n",
              "      <td>True</td>\n",
              "      <td>39</td>\n",
              "      <td>noshow</td>\n",
              "    </tr>\n",
              "    <tr>\n",
              "      <th>4</th>\n",
              "      <td>False</td>\n",
              "      <td>False</td>\n",
              "      <td>False</td>\n",
              "      <td>False</td>\n",
              "      <td>False</td>\n",
              "      <td>False</td>\n",
              "      <td>False</td>\n",
              "      <td>False</td>\n",
              "      <td>False</td>\n",
              "      <td>False</td>\n",
              "      <td>True</td>\n",
              "      <td>True</td>\n",
              "      <td>False</td>\n",
              "      <td>False</td>\n",
              "      <td>False</td>\n",
              "      <td>False</td>\n",
              "      <td>False</td>\n",
              "      <td>False</td>\n",
              "      <td>False</td>\n",
              "      <td>False</td>\n",
              "      <td>False</td>\n",
              "      <td>False</td>\n",
              "      <td>True</td>\n",
              "      <td>False</td>\n",
              "      <td>False</td>\n",
              "      <td>False</td>\n",
              "      <td>True</td>\n",
              "      <td>False</td>\n",
              "      <td>False</td>\n",
              "      <td>False</td>\n",
              "      <td>False</td>\n",
              "      <td>True</td>\n",
              "      <td>False</td>\n",
              "      <td>True</td>\n",
              "      <td>False</td>\n",
              "      <td>False</td>\n",
              "      <td>False</td>\n",
              "      <td>False</td>\n",
              "      <td>False</td>\n",
              "      <td>True</td>\n",
              "      <td>False</td>\n",
              "      <td>True</td>\n",
              "      <td>False</td>\n",
              "      <td>True</td>\n",
              "      <td>False</td>\n",
              "      <td>False</td>\n",
              "      <td>False</td>\n",
              "      <td>False</td>\n",
              "      <td>False</td>\n",
              "      <td>False</td>\n",
              "      <td>False</td>\n",
              "      <td>False</td>\n",
              "      <td>False</td>\n",
              "      <td>False</td>\n",
              "      <td>False</td>\n",
              "      <td>True</td>\n",
              "      <td>28</td>\n",
              "      <td>noshow</td>\n",
              "    </tr>\n",
              "  </tbody>\n",
              "</table>\n",
              "</div>"
            ],
            "text/plain": [
              "   participant = 2680425062  ...   label\n",
              "0                     False  ...  noshow\n",
              "1                     False  ...  noshow\n",
              "2                     False  ...  noshow\n",
              "3                     False  ...  noshow\n",
              "4                     False  ...  noshow\n",
              "\n",
              "[5 rows x 58 columns]"
            ]
          },
          "metadata": {},
          "execution_count": 9
        }
      ]
    },
    {
      "cell_type": "code",
      "metadata": {
        "id": "NJSdjm13xqtD"
      },
      "source": [
        "# shuffle the dataframe\n",
        "feature_matrix = feature_matrix.sample(frac=1)\n",
        "\n",
        "# pop the target labels\n",
        "y = list(feature_matrix.pop('label'))\n",
        "X = feature_matrix.values\n",
        "\n",
        "X_train, X_test, y_train, y_test = cd.train_test_split(\n",
        "\tX, y, test_size=0.2, shuffle=True)"
      ],
      "execution_count": 10,
      "outputs": []
    },
    {
      "cell_type": "code",
      "metadata": {
        "id": "J17miH1mxsjc"
      },
      "source": [
        "# modeling\n",
        "cd.select_pipeline('Random Forest')\n",
        "cd.fit(X_train, y_train)\n",
        "y_pred = cd.predict(X_test)"
      ],
      "execution_count": 11,
      "outputs": []
    },
    {
      "cell_type": "code",
      "metadata": {
        "colab": {
          "base_uri": "https://localhost:8080/"
        },
        "id": "mgp8x_4ExtZJ",
        "outputId": "2bea3c40-a8d2-458f-c6f5-9f954587e0e4"
      },
      "source": [
        "cd.evaluate(X, y, test_size=0.2, shuffle=True)"
      ],
      "execution_count": 12,
      "outputs": [
        {
          "output_type": "execute_result",
          "data": {
            "text/plain": [
              "{'Accuracy': 0.77, 'Confusion Matrix': array([[ 10,  15],\n",
              "        [ 31, 144]]), 'F1 Macro': 0.5826528760660498, 'Precision': 0.5747814081914404, 'Recall': 0.6114285714285714}"
            ]
          },
          "metadata": {},
          "execution_count": 12
        }
      ]
    },
    {
      "cell_type": "code",
      "metadata": {
        "id": "aWJGfBqMxu51"
      },
      "source": [
        "# modeling1\n",
        "cd.select_pipeline('Logistic Regression')\n",
        "cd.fit(X_train, y_train)\n",
        "y_pred = cd.predict(X_test)"
      ],
      "execution_count": 13,
      "outputs": []
    },
    {
      "cell_type": "code",
      "metadata": {
        "colab": {
          "base_uri": "https://localhost:8080/"
        },
        "id": "G3lGFOBexwYq",
        "outputId": "94be3e45-15a3-4add-ee52-d1567b542cae"
      },
      "source": [
        "cd.evaluate(X, y, test_size=0.2, shuffle=True)"
      ],
      "execution_count": 14,
      "outputs": [
        {
          "output_type": "execute_result",
          "data": {
            "text/plain": [
              "{'Accuracy': 0.835, 'Confusion Matrix': array([[  0,  31],\n",
              "        [  2, 167]]), 'F1 Macro': 0.45504087193460496, 'Precision': 0.4217171717171717, 'Recall': 0.4940828402366864}"
            ]
          },
          "metadata": {},
          "execution_count": 14
        }
      ]
    }
  ]
}